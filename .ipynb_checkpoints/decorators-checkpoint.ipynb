{
 "cells": [
  {
   "cell_type": "markdown",
   "id": "bfc46d70-2203-44e9-94b4-b591bc94ad47",
   "metadata": {},
   "source": [
    "# Namespaces\n",
    "* dictionary of identifiers(classnames,variablenames,function names) etc.\n",
    "* It stores identifiers as key and object as values\n",
    "## Type of namespaces:LEGB Rule\n",
    "* local\n",
    "* enclosing\n",
    "* global\n",
    "* built in"
   ]
  },
  {
   "cell_type": "code",
   "execution_count": 9,
   "id": "b13dd5d1-cd5d-416a-bb4b-5a92363fe13d",
   "metadata": {},
   "outputs": [
    {
     "name": "stdout",
     "output_type": "stream",
     "text": [
      "140713432499304\n",
      "11\n",
      "140713432499336\n",
      "12\n"
     ]
    }
   ],
   "source": [
    "# local and global if value same than no copy but refrence to single variable a and if values diffrent than for their scope is diffrent than according to their scope they get called.\n",
    "a=12\n",
    "def local():\n",
    "    a=11\n",
    "    print(id(a))\n",
    "    print(a)\n",
    "local()\n",
    "print(id(a))\n",
    "print(a)"
   ]
  },
  {
   "cell_type": "code",
   "execution_count": 11,
   "id": "ded6d21d-9974-4404-9c4e-e5cb0dd3e9ef",
   "metadata": {},
   "outputs": [
    {
     "name": "stdout",
     "output_type": "stream",
     "text": [
      "12\n",
      "12\n"
     ]
    }
   ],
   "source": [
    "a=12\n",
    "def temp():\n",
    "    print(a)\n",
    "temp()\n",
    "print(a)"
   ]
  },
  {
   "cell_type": "code",
   "execution_count": 13,
   "id": "9c9173fd-df20-40bd-bbb9-04b76fb409f7",
   "metadata": {},
   "outputs": [
    {
     "ename": "UnboundLocalError",
     "evalue": "cannot access local variable 'a' where it is not associated with a value",
     "output_type": "error",
     "traceback": [
      "\u001b[1;31m---------------------------------------------------------------------------\u001b[0m",
      "\u001b[1;31mUnboundLocalError\u001b[0m                         Traceback (most recent call last)",
      "Cell \u001b[1;32mIn[13], line 5\u001b[0m\n\u001b[0;32m      3\u001b[0m     a\u001b[38;5;241m+\u001b[39m\u001b[38;5;241m=\u001b[39m\u001b[38;5;241m1\u001b[39m\n\u001b[0;32m      4\u001b[0m     \u001b[38;5;28mprint\u001b[39m(a)\n\u001b[1;32m----> 5\u001b[0m temp()\n\u001b[0;32m      6\u001b[0m \u001b[38;5;28mprint\u001b[39m(a)\n",
      "Cell \u001b[1;32mIn[13], line 3\u001b[0m, in \u001b[0;36mtemp\u001b[1;34m()\u001b[0m\n\u001b[0;32m      2\u001b[0m \u001b[38;5;28;01mdef\u001b[39;00m \u001b[38;5;21mtemp\u001b[39m():\n\u001b[1;32m----> 3\u001b[0m     a\u001b[38;5;241m+\u001b[39m\u001b[38;5;241m=\u001b[39m\u001b[38;5;241m1\u001b[39m\n\u001b[0;32m      4\u001b[0m     \u001b[38;5;28mprint\u001b[39m(a)\n",
      "\u001b[1;31mUnboundLocalError\u001b[0m: cannot access local variable 'a' where it is not associated with a value"
     ]
    }
   ],
   "source": [
    "a=12 #global variable cannot be change inside local scope\n",
    "def temp():\n",
    "    a+=1\n",
    "    print(a)\n",
    "temp()\n",
    "print(a)"
   ]
  },
  {
   "cell_type": "code",
   "execution_count": 15,
   "id": "b158308b-b1c0-4d2c-959a-c97910a9c616",
   "metadata": {},
   "outputs": [
    {
     "name": "stdout",
     "output_type": "stream",
     "text": [
      "13\n",
      "13\n"
     ]
    }
   ],
   "source": [
    "a=12 #global variable can be change using global keyword to tell interpreter that it is global variable\n",
    "def temp():\n",
    "    global a\n",
    "    a+=1\n",
    "    print(a)\n",
    "temp()\n",
    "print(a)"
   ]
  },
  {
   "cell_type": "code",
   "execution_count": 17,
   "id": "ef049bcc-14ad-4418-aa2b-3543d8b8f6a9",
   "metadata": {},
   "outputs": [
    {
     "name": "stdout",
     "output_type": "stream",
     "text": [
      "built in scope\n"
     ]
    }
   ],
   "source": [
    "# built in scope string method,arithmatic functions,list,dictionary methods etc\n",
    "print(\"built in scope\")"
   ]
  },
  {
   "cell_type": "code",
   "execution_count": 18,
   "id": "7c570207-acde-4465-a345-538f779eb4e0",
   "metadata": {},
   "outputs": [
    {
     "name": "stdout",
     "output_type": "stream",
     "text": [
      "['ArithmeticError', 'AssertionError', 'AttributeError', 'BaseException', 'BaseExceptionGroup', 'BlockingIOError', 'BrokenPipeError', 'BufferError', 'BytesWarning', 'ChildProcessError', 'ConnectionAbortedError', 'ConnectionError', 'ConnectionRefusedError', 'ConnectionResetError', 'DeprecationWarning', 'EOFError', 'Ellipsis', 'EncodingWarning', 'EnvironmentError', 'Exception', 'ExceptionGroup', 'False', 'FileExistsError', 'FileNotFoundError', 'FloatingPointError', 'FutureWarning', 'GeneratorExit', 'IOError', 'ImportError', 'ImportWarning', 'IndentationError', 'IndexError', 'InterruptedError', 'IsADirectoryError', 'KeyError', 'KeyboardInterrupt', 'LookupError', 'MemoryError', 'ModuleNotFoundError', 'NameError', 'None', 'NotADirectoryError', 'NotImplemented', 'NotImplementedError', 'OSError', 'OverflowError', 'PendingDeprecationWarning', 'PermissionError', 'ProcessLookupError', 'RecursionError', 'ReferenceError', 'ResourceWarning', 'RuntimeError', 'RuntimeWarning', 'StopAsyncIteration', 'StopIteration', 'SyntaxError', 'SyntaxWarning', 'SystemError', 'SystemExit', 'TabError', 'TimeoutError', 'True', 'TypeError', 'UnboundLocalError', 'UnicodeDecodeError', 'UnicodeEncodeError', 'UnicodeError', 'UnicodeTranslateError', 'UnicodeWarning', 'UserWarning', 'ValueError', 'Warning', 'WindowsError', 'ZeroDivisionError', '__IPYTHON__', '__build_class__', '__debug__', '__doc__', '__import__', '__loader__', '__name__', '__package__', '__spec__', 'abs', 'aiter', 'all', 'anext', 'any', 'ascii', 'bin', 'bool', 'breakpoint', 'bytearray', 'bytes', 'callable', 'chr', 'classmethod', 'compile', 'complex', 'copyright', 'credits', 'delattr', 'dict', 'dir', 'display', 'divmod', 'enumerate', 'eval', 'exec', 'execfile', 'filter', 'float', 'format', 'frozenset', 'get_ipython', 'getattr', 'globals', 'hasattr', 'hash', 'help', 'hex', 'id', 'input', 'int', 'isinstance', 'issubclass', 'iter', 'len', 'license', 'list', 'locals', 'map', 'max', 'memoryview', 'min', 'next', 'object', 'oct', 'open', 'ord', 'pow', 'print', 'property', 'range', 'repr', 'reversed', 'round', 'runfile', 'set', 'setattr', 'slice', 'sorted', 'staticmethod', 'str', 'sum', 'super', 'tuple', 'type', 'vars', 'zip']\n"
     ]
    }
   ],
   "source": [
    "import builtins as bt\n",
    "print(dir(bt))"
   ]
  },
  {
   "cell_type": "code",
   "execution_count": 34,
   "id": "3de2a6f6-ccf8-4ec1-9211-ede231509df9",
   "metadata": {},
   "outputs": [
    {
     "name": "stdout",
     "output_type": "stream",
     "text": [
      "max\n"
     ]
    },
    {
     "ename": "TypeError",
     "evalue": "max() takes 0 positional arguments but 1 was given",
     "output_type": "error",
     "traceback": [
      "\u001b[1;31m---------------------------------------------------------------------------\u001b[0m",
      "\u001b[1;31mTypeError\u001b[0m                                 Traceback (most recent call last)",
      "Cell \u001b[1;32mIn[34], line 5\u001b[0m\n\u001b[0;32m      3\u001b[0m \u001b[38;5;28;01mdef\u001b[39;00m \u001b[38;5;21mmax\u001b[39m():\n\u001b[0;32m      4\u001b[0m     \u001b[38;5;28;01mreturn\u001b[39;00m \u001b[38;5;124m\"\u001b[39m\u001b[38;5;124mhello world\u001b[39m\u001b[38;5;124m\"\u001b[39m\n\u001b[1;32m----> 5\u001b[0m \u001b[38;5;28mmax\u001b[39m(l)\n",
      "\u001b[1;31mTypeError\u001b[0m: max() takes 0 positional arguments but 1 was given"
     ]
    }
   ],
   "source": [
    "l=[2,10,200]\n",
    "max()\n",
    "def max():\n",
    "    return \"hello world\"\n",
    "max(l)"
   ]
  },
  {
   "cell_type": "code",
   "execution_count": 40,
   "id": "a7a1bace-7041-482a-9e37-949175cbd2ed",
   "metadata": {},
   "outputs": [
    {
     "name": "stdout",
     "output_type": "stream",
     "text": [
      "12\n",
      "inner\n",
      "outer\n",
      "main program\n"
     ]
    }
   ],
   "source": [
    "# enclosing scope LEGB\n",
    "\n",
    "def outer(): #enclosing\n",
    "    def inner():   #local\n",
    "        print(\"inner\")\n",
    "    inner()  #second line so inner gets called and print inner\n",
    "    print('outer') #third outer own print line gets called\n",
    "a=12 #global\n",
    "print(a)\n",
    "outer() #this is the first line gets called outer\n",
    "\n",
    "print('main program') #at last this line gets called"
   ]
  },
  {
   "cell_type": "code",
   "execution_count": 44,
   "id": "b9dc033f-49fd-4e16-acef-bf47bef43206",
   "metadata": {},
   "outputs": [
    {
     "name": "stdout",
     "output_type": "stream",
     "text": [
      "1\n",
      "outer\n",
      "main program\n"
     ]
    }
   ],
   "source": [
    "# enclosing scope LEGB\n",
    "\n",
    "def outer(): #enclosing\n",
    "    # a=3\n",
    "    def inner():   #local\n",
    "        # a=4\n",
    "        print(a)\n",
    "    inner()  #second line so inner gets called and print inner\n",
    "    print('outer') #third outer own print line gets called\n",
    "# a=1 #global\n",
    "# print(a)\n",
    "outer() #this is the first line gets called outer\n",
    "\n",
    "print('main program') #at last this line gets called"
   ]
  },
  {
   "cell_type": "code",
   "execution_count": 48,
   "id": "70b4d34c-2162-4621-99c4-11da0231b74d",
   "metadata": {},
   "outputs": [
    {
     "name": "stdout",
     "output_type": "stream",
     "text": [
      "inner\n",
      "2\n",
      "outer\n",
      "main program\n"
     ]
    }
   ],
   "source": [
    "# accessing enclosing variable from local scope\n",
    "def outer():\n",
    "    a=1\n",
    "    def inner():\n",
    "        print('inner')\n",
    "        nonlocal a\n",
    "        a+=1\n",
    "        print(a)\n",
    "    inner()\n",
    "    print('outer')\n",
    "outer()\n",
    "print('main program')"
   ]
  },
  {
   "cell_type": "markdown",
   "id": "5f5e9afc-8192-40b6-8651-4c65c496747c",
   "metadata": {},
   "source": [
    "# Decorators\n",
    "* a function that takes another function as argument add some functionality and returns it.\n",
    "* it is possible because functions are first class citizen.\n",
    "## Type of Decorators\n",
    "* built in\n",
    "-> @classmethod,@staticmethod\n",
    "* user defined\n",
    "->developers can create"
   ]
  },
  {
   "cell_type": "code",
   "execution_count": 64,
   "id": "777bed6d-a9a5-494d-9ce9-561142b422b4",
   "metadata": {},
   "outputs": [],
   "source": [
    "def modify(square,num):\n",
    "    return f\"square of {num} is {square(num)}\"\n",
    "def square(num):\n",
    "    return num**2"
   ]
  },
  {
   "cell_type": "code",
   "execution_count": 65,
   "id": "d2d20be8-31ee-42d8-af9c-6885f39939cf",
   "metadata": {},
   "outputs": [
    {
     "data": {
      "text/plain": [
       "'square of 4 is 16'"
      ]
     },
     "execution_count": 65,
     "metadata": {},
     "output_type": "execute_result"
    }
   ],
   "source": [
    "modify(square,4)"
   ]
  },
  {
   "cell_type": "code",
   "execution_count": 70,
   "id": "2bd094d8-3e78-44c3-a6c3-0390fc4f0a8b",
   "metadata": {},
   "outputs": [],
   "source": [
    "def modifyFunc(func):\n",
    "    def wrapper():\n",
    "        print('==============================================================================')\n",
    "        func()\n",
    "        print('==============================================================================')\n",
    "    return wrapper\n",
    "def hello():\n",
    "    print('hello')\n"
   ]
  },
  {
   "cell_type": "code",
   "execution_count": 78,
   "id": "a21c47de-cac2-48ac-a179-5ec0c132fa94",
   "metadata": {},
   "outputs": [
    {
     "name": "stdout",
     "output_type": "stream",
     "text": [
      "==============================================================================\n",
      "hello\n",
      "==============================================================================\n"
     ]
    }
   ],
   "source": [
    "res=modifyFunc(hello)\n",
    "res()"
   ]
  },
  {
   "cell_type": "code",
   "execution_count": null,
   "id": "061a3caf-effd-43d7-a377-9e1c24cf88e5",
   "metadata": {},
   "outputs": [],
   "source": []
  }
 ],
 "metadata": {
  "kernelspec": {
   "display_name": "Python 3 (ipykernel)",
   "language": "python",
   "name": "python3"
  },
  "language_info": {
   "codemirror_mode": {
    "name": "ipython",
    "version": 3
   },
   "file_extension": ".py",
   "mimetype": "text/x-python",
   "name": "python",
   "nbconvert_exporter": "python",
   "pygments_lexer": "ipython3",
   "version": "3.11.7"
  }
 },
 "nbformat": 4,
 "nbformat_minor": 5
}

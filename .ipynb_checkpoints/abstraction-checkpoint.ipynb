{
 "cells": [
  {
   "cell_type": "markdown",
   "id": "697ea9e7-445b-45a0-b5ea-80f6608c25fe",
   "metadata": {},
   "source": [
    "## abstraction \n",
    "* It is also known as data hiding in this a class that containas an abstract method is called abstract class.\n",
    "* An abstract class cannot be instantiate that means we cannot create object of that class and also whenever any other class inherit to this class that class has to override the abstract method.\n",
    "* cannot create instance of abstract class."
   ]
  },
  {
   "cell_type": "code",
   "execution_count": 11,
   "id": "0cef7b31-4e1c-4c02-b66c-1565329e14f3",
   "metadata": {},
   "outputs": [],
   "source": [
    "from abc import ABC,abstractmethod\n",
    "class Branch(ABC):\n",
    "    def __init__(self,name):\n",
    "        self.name=name\n",
    "    @abstractmethod\n",
    "    def secureRoute(self):\n",
    "        return f\"branch name is {self.name}\"\n",
    "    @abstractmethod\n",
    "    def display(self):\n",
    "        return \"display\"\n",
    "class University(Branch):\n",
    "    def __init__(self,name):\n",
    "        self.name=name\n",
    "    def display(self):\n",
    "        return \"display\"\n",
    "    def secureRoute(self):\n",
    "        return f\"univeristy name is {self.name}\""
   ]
  },
  {
   "cell_type": "code",
   "execution_count": 12,
   "id": "6fc9257f-4550-4d66-a31e-d51720ede8da",
   "metadata": {},
   "outputs": [
    {
     "data": {
      "text/plain": [
       "'univeristy name is ITM'"
      ]
     },
     "execution_count": 12,
     "metadata": {},
     "output_type": "execute_result"
    }
   ],
   "source": [
    "u=University(\"ITM\")\n",
    "u.secureRoute()"
   ]
  },
  {
   "cell_type": "code",
   "execution_count": null,
   "id": "b62bae60-1b39-4edd-b729-c7edc1556f43",
   "metadata": {},
   "outputs": [],
   "source": []
  }
 ],
 "metadata": {
  "kernelspec": {
   "display_name": "Python 3 (ipykernel)",
   "language": "python",
   "name": "python3"
  },
  "language_info": {
   "codemirror_mode": {
    "name": "ipython",
    "version": 3
   },
   "file_extension": ".py",
   "mimetype": "text/x-python",
   "name": "python",
   "nbconvert_exporter": "python",
   "pygments_lexer": "ipython3",
   "version": "3.11.7"
  }
 },
 "nbformat": 4,
 "nbformat_minor": 5
}

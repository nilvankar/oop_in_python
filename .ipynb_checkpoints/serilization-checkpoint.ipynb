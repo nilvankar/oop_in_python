{
 "cells": [
  {
   "cell_type": "markdown",
   "id": "53d28263-c700-4787-8275-2969ea6da71a",
   "metadata": {},
   "source": [
    "# Type of file in I/O operation"
   ]
  },
  {
   "cell_type": "markdown",
   "id": "df8b42c0-ca08-4016-80e5-75df686ae90e",
   "metadata": {},
   "source": [
    "## text file\n",
    "* Unicode characters\n",
    "* extension->.txt\n",
    "## binary file\n",
    "* Any other file such as images,videos,music,executable software programms\n",
    "* extension->.exe,.mp3,.mp4,.png.jpeg,.jpg"
   ]
  },
  {
   "cell_type": "markdown",
   "id": "775f7373-2362-486e-8346-cef6abcd226e",
   "metadata": {},
   "source": [
    "## opening a file \n",
    "* write mode allow to make change in file\n",
    "## open() function\n",
    "* It is a built in function that takes (file,\r",
    "    \n",
    "   mode='r')\n",
    "this number of arguments first is name of the file and second is mode (read or write)\n",
    "* In the below code first name of the file second is 'w' as write mode\n",
    "* then write function gets called to add content in the file\n",
    "* at last always neccessary to call close() function=None,)"
   ]
  },
  {
   "cell_type": "markdown",
   "id": "f916eace-bbfa-49d7-9652-ff77dec24e19",
   "metadata": {},
   "source": [
    "## write mode functions\n",
    "* write()--add multiple line\n",
    "* writelines()--add single line"
   ]
  },
  {
   "cell_type": "code",
   "execution_count": 3,
   "id": "beaf070e-e1aa-44fd-a895-50b515925737",
   "metadata": {},
   "outputs": [],
   "source": [
    "f=open('sample1.txt','w')\n",
    "f.write(\"This is a sample file\")\n",
    "f.close()"
   ]
  },
  {
   "cell_type": "markdown",
   "id": "7a694e10-6761-4bdc-be94-814f63de0a2d",
   "metadata": {},
   "source": [
    "## append mode\n",
    "* add new changes without removing previous one."
   ]
  },
  {
   "cell_type": "code",
   "execution_count": 5,
   "id": "54ef649b-1233-4f27-b1c0-25d3fc575528",
   "metadata": {},
   "outputs": [],
   "source": [
    "f=open('sample1.txt','a')\n",
    "f.write(\"\"\"Lorem, ipsum dolor sit amet consectetur adipisicing elit. Culpa necessitatibus libero consequuntur quae tenetur\n",
    "        fuga reiciendis dolorem eveniet neque omnis ex in alias quas, voluptates quia minus dolor tempore quo suscipit.\n",
    "        Dolorem possimus commodi eligendi. Explicabo ab nulla atque adipisci asperiores nostrum sit voluptatum ullam\n",
    "        labore eaque amet architecto, expedita alias deleniti at sint nemo iure, distinctio quaerat reprehenderit\n",
    "        voluptates! Aliquid delectus magnam, nisi esse similique in, reprehenderit veritatis dolores consequatur at\n",
    "        consequuntur accusamus? Veritatis natus illum itaque inventore, fuga numquam laborum, repudiandae aut similique\n",
    "        sapiente voluptatem, corporis doloremque. Error dicta fuga, omnis explicabo aperiam accusantium? Veniam\n",
    "        consequatur consequuntur quidem.\"\"\")\n",
    "f.close()"
   ]
  },
  {
   "cell_type": "code",
   "execution_count": 6,
   "id": "701b6564-dfac-491f-b805-7d84babe15e5",
   "metadata": {},
   "outputs": [],
   "source": [
    "f=open('sample1.txt','a')\n",
    "f.writelines(\"Lorem, ipsum dolor sit amet consectetur adipisicing elit. Culpa necessitatibus libero consequuntur quae.\")\n",
    "f.writelines(\"Dolorem possimus commodi eligendi. Explicabo ab nulla atque adipisci asperiores nostrum sit voluptatum ullam.\")\n",
    "f.writelines('   labore eaque amet architecto, expedita alias deleniti at sint nemo iure, distinctio quaerat reprehenderit   ')\n",
    "f.close()"
   ]
  },
  {
   "cell_type": "markdown",
   "id": "5913fd83-b393-4d92-9211-e024f2120bd9",
   "metadata": {},
   "source": [
    "## read mode\n",
    "* read()--Entire file gets read\n",
    "* readlines()--read line by line"
   ]
  },
  {
   "cell_type": "code",
   "execution_count": 7,
   "id": "7f630c26-f718-4edf-bbc1-5397dd99b3bd",
   "metadata": {},
   "outputs": [
    {
     "name": "stdout",
     "output_type": "stream",
     "text": [
      "This is a sample fileLorem, ipsum dolor sit amet consectetur adipisicing elit. Culpa necessitatibus libero consequuntur quae tenetur\n",
      "        fuga reiciendis dolorem eveniet neque omnis ex in alias quas, voluptates quia minus dolor tempore quo suscipit.\n",
      "        Dolorem possimus commodi eligendi. Explicabo ab nulla atque adipisci asperiores nostrum sit voluptatum ullam\n",
      "        labore eaque amet architecto, expedita alias deleniti at sint nemo iure, distinctio quaerat reprehenderit\n",
      "        voluptates! Aliquid delectus magnam, nisi esse similique in, reprehenderit veritatis dolores consequatur at\n",
      "        consequuntur accusamus? Veritatis natus illum itaque inventore, fuga numquam laborum, repudiandae aut similique\n",
      "        sapiente voluptatem, corporis doloremque. Error dicta fuga, omnis explicabo aperiam accusantium? Veniam\n",
      "        consequatur consequuntur quidem.Lorem, ipsum dolor sit amet consectetur adipisicing elit. Culpa necessitatibus libero consequuntur quae tenetur\n",
      "        fuga reiciendis dolorem eveniet neque omnis ex in alias quas, voluptates quia minus dolor tempore quo suscipit.\n",
      "        Dolorem possimus commodi eligendi. Explicabo ab nulla atque adipisci asperiores nostrum sit voluptatum ullam\n",
      "        labore eaque amet architecto, expedita alias deleniti at sint nemo iure, distinctio quaerat reprehenderit\n",
      "        voluptates! Aliquid delectus magnam, nisi esse similique in, reprehenderit veritatis dolores consequatur at\n",
      "        consequuntur accusamus? Veritatis natus illum itaque inventore, fuga numquam laborum, repudiandae aut similique\n",
      "        sapiente voluptatem, corporis doloremque. Error dicta fuga, omnis explicabo aperiam accusantium? Veniam\n",
      "        consequatur consequuntur quidem.Lorem, ipsum dolor sit amet consectetur adipisicing elit. Culpa necessitatibus libero consequuntur quae.Dolorem possimus commodi eligendi. Explicabo ab nulla atque adipisci asperiores nostrum sit voluptatum ullam.   labore eaque amet architecto, expedita alias deleniti at sint nemo iure, distinctio quaerat reprehenderit   \n"
     ]
    }
   ],
   "source": [
    "f=open('sample1.txt','r')\n",
    "res=f.read()\n",
    "print(res)\n",
    "f.close()"
   ]
  },
  {
   "cell_type": "code",
   "execution_count": 8,
   "id": "0f946dfa-9637-4389-b300-68083ce2f013",
   "metadata": {},
   "outputs": [
    {
     "name": "stdout",
     "output_type": "stream",
     "text": [
      "['This is a sample fileLorem, ipsum dolor sit amet consectetur adipisicing elit. Culpa necessitatibus libero consequuntur quae tenetur\\n', '        fuga reiciendis dolorem eveniet neque omnis ex in alias quas, voluptates quia minus dolor tempore quo suscipit.\\n', '        Dolorem possimus commodi eligendi. Explicabo ab nulla atque adipisci asperiores nostrum sit voluptatum ullam\\n', '        labore eaque amet architecto, expedita alias deleniti at sint nemo iure, distinctio quaerat reprehenderit\\n', '        voluptates! Aliquid delectus magnam, nisi esse similique in, reprehenderit veritatis dolores consequatur at\\n', '        consequuntur accusamus? Veritatis natus illum itaque inventore, fuga numquam laborum, repudiandae aut similique\\n', '        sapiente voluptatem, corporis doloremque. Error dicta fuga, omnis explicabo aperiam accusantium? Veniam\\n', '        consequatur consequuntur quidem.Lorem, ipsum dolor sit amet consectetur adipisicing elit. Culpa necessitatibus libero consequuntur quae tenetur\\n', '        fuga reiciendis dolorem eveniet neque omnis ex in alias quas, voluptates quia minus dolor tempore quo suscipit.\\n', '        Dolorem possimus commodi eligendi. Explicabo ab nulla atque adipisci asperiores nostrum sit voluptatum ullam\\n', '        labore eaque amet architecto, expedita alias deleniti at sint nemo iure, distinctio quaerat reprehenderit\\n', '        voluptates! Aliquid delectus magnam, nisi esse similique in, reprehenderit veritatis dolores consequatur at\\n', '        consequuntur accusamus? Veritatis natus illum itaque inventore, fuga numquam laborum, repudiandae aut similique\\n', '        sapiente voluptatem, corporis doloremque. Error dicta fuga, omnis explicabo aperiam accusantium? Veniam\\n', '        consequatur consequuntur quidem.Lorem, ipsum dolor sit amet consectetur adipisicing elit. Culpa necessitatibus libero consequuntur quae.Dolorem possimus commodi eligendi. Explicabo ab nulla atque adipisci asperiores nostrum sit voluptatum ullam.   labore eaque amet architecto, expedita alias deleniti at sint nemo iure, distinctio quaerat reprehenderit   ']\n"
     ]
    }
   ],
   "source": [
    "f=open('sample1.txt','r')\n",
    "res=f.readlines()\n",
    "print(res)\n",
    "f.close()"
   ]
  },
  {
   "cell_type": "code",
   "execution_count": null,
   "id": "63fe5f94-4027-480e-9972-7a7d25e55543",
   "metadata": {},
   "outputs": [],
   "source": []
  }
 ],
 "metadata": {
  "kernelspec": {
   "display_name": "Python 3 (ipykernel)",
   "language": "python",
   "name": "python3"
  },
  "language_info": {
   "codemirror_mode": {
    "name": "ipython",
    "version": 3
   },
   "file_extension": ".py",
   "mimetype": "text/x-python",
   "name": "python",
   "nbconvert_exporter": "python",
   "pygments_lexer": "ipython3",
   "version": "3.11.7"
  }
 },
 "nbformat": 4,
 "nbformat_minor": 5
}

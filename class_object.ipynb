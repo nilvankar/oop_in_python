{
 "cells": [
  {
   "cell_type": "markdown",
   "id": "d5bd98d5-8be5-4c5f-9373-a44ba29a4b1f",
   "metadata": {},
   "source": [
    "## Object Oriented Programming\n",
    "* Everything in python is an object\n",
    "* Object are instance of class.\n",
    "## How OOP is diffrent from POP\n",
    "POP (Procedural Programming) is based on top to bottom upproch.\n",
    "It is work on function call.\n",
    "OOP work on object calling."
   ]
  },
  {
   "cell_type": "markdown",
   "id": "175a350a-f8ef-4048-92f8-dd5907ae66c6",
   "metadata": {},
   "source": [
    "## Features of OOP"
   ]
  },
  {
   "cell_type": "markdown",
   "id": "dd6ca685-2d7e-45cd-854f-5b0f0581f94d",
   "metadata": {},
   "source": [
    "## Core Concepts in OOP\n",
    "* Object\n",
    "* Class\n",
    "* Inheritance\n",
    "* Polymorphism\n",
    "* Abstraction\n",
    "* Encapsulation"
   ]
  },
  {
   "cell_type": "markdown",
   "id": "6da7b616-d203-4e52-858f-5b999158106a",
   "metadata": {},
   "source": [
    "## class\n",
    "* A class is a blueprint for object\n",
    "* It is a collection of data members(variables) and methods.\n",
    "* Example of class- Bank,College,Country,Person\n",
    "## Object\n",
    "* Objects are instance of class.\n",
    "* Each object holds diffrent value for class.\n",
    "* Class properties only accessible by their objects."
   ]
  },
  {
   "cell_type": "code",
   "execution_count": 8,
   "id": "4e1d5636-76da-4e3f-bd44-1e85c5016ab2",
   "metadata": {},
   "outputs": [],
   "source": [
    "class FirstClass:\n",
    "    def show(self,num1,num2):\n",
    "        return num1+num2\n"
   ]
  },
  {
   "cell_type": "code",
   "execution_count": 9,
   "id": "e4c51c52-3dc8-48dd-8364-811b9fe5bf31",
   "metadata": {},
   "outputs": [
    {
     "data": {
      "text/plain": [
       "35"
      ]
     },
     "execution_count": 9,
     "metadata": {},
     "output_type": "execute_result"
    }
   ],
   "source": [
    "c=FirstClass()\n",
    "c.show(12,23)"
   ]
  },
  {
   "cell_type": "markdown",
   "id": "d980f6e8-8d60-4b6a-a13a-ec293bf2ac16",
   "metadata": {},
   "source": [
    "# What is self keyword ?"
   ]
  },
  {
   "cell_type": "markdown",
   "id": "a04160f6-bed4-458a-b6eb-2c2eb06cbc9c",
   "metadata": {},
   "source": [
    "* Self is similar to this keyword in java\n",
    "* It is always return current instance of class\n",
    "* All methods and members are only access inside another method by only self keyword because self refrence to the object that is instantiate.\n",
    "* We use period(.) to invoke methods and members."
   ]
  },
  {
   "cell_type": "markdown",
   "id": "b2aa6dbb-1fcb-4bbf-9c81-f0398e87cd67",
   "metadata": {},
   "source": [
    "# constructor __init__()\n",
    "* __init__() is class constructor a special method that gets calld directly while object is get instantiate.\n"
   ]
  },
  {
   "cell_type": "markdown",
   "id": "e777c183-3171-47c4-b07c-4e4d37f28a86",
   "metadata": {},
   "source": [
    "## Why we need of constructor ?\n",
    "* It solve a very major problem that is configuration related task\n",
    "* In an application when user comes it first get authenticate so its credentials get check if its correct only then we want to use other method otherwise we dont want to expose our method.\n",
    "* So any configuration related code is written in constructor.\n",
    "## getters and setters\n",
    "* A method that return all values of class is getters.\n",
    "* A method that take input from user is called setter."
   ]
  },
  {
   "cell_type": "markdown",
   "id": "537fff50-7784-40c3-bf53-3c15915f0037",
   "metadata": {},
   "source": [
    "## dunder method\n",
    "* Magic Method or Dunder Method(double underscore __nameOfMethod__()) is a special method in python for specific task.\n",
    "* __str__ method used to print object of class.\n",
    "* __add__ method used to add values of two objects\n",
    "* __sub__ method used to subtract values of two objects\n",
    "* __mul__ method used to multiply values of two objects\n",
    "* __truediv__ method used to divide values of two objects"
   ]
  },
  {
   "cell_type": "code",
   "execution_count": 14,
   "id": "9189ea17-62f7-4ff3-a871-4bbc92f8a129",
   "metadata": {},
   "outputs": [],
   "source": [
    "class Person:\n",
    "    def __init__(self,age,name,gender,email,password):\n",
    "        self.age=age\n",
    "        self.name=name\n",
    "        self.gender=gender\n",
    "        self.password=password\n",
    "        self.email=email\n",
    "   \n",
    "    def __str__(self):\n",
    "        return f\"Hello I am{self.name}.I am {self.gender} and i am {self.age} years old.My Email is {self.email} and my password {self.password}\"\n",
    "    "
   ]
  },
  {
   "cell_type": "code",
   "execution_count": 15,
   "id": "f12c4916-a9c5-4e4c-bac0-f5d582eb5daf",
   "metadata": {},
   "outputs": [
    {
     "name": "stdout",
     "output_type": "stream",
     "text": [
      "Hello I amNeel.I am Male and i am 18 years old.My Email is vankar262@gmail.com and my password Neel0109*_\n"
     ]
    }
   ],
   "source": [
    "p1=Person(name=\"Neel\",age=18,gender=\"Male\",email=\"vankar262@gmail.com\",password=\"Neel0109*_\")\n",
    "print(p1)"
   ]
  },
  {
   "cell_type": "markdown",
   "id": "22618795-2b92-4e47-ba47-896623701d44",
   "metadata": {},
   "source": []
  }
 ],
 "metadata": {
  "kernelspec": {
   "display_name": "Python 3 (ipykernel)",
   "language": "python",
   "name": "python3"
  },
  "language_info": {
   "codemirror_mode": {
    "name": "ipython",
    "version": 3
   },
   "file_extension": ".py",
   "mimetype": "text/x-python",
   "name": "python",
   "nbconvert_exporter": "python",
   "pygments_lexer": "ipython3",
   "version": "3.11.7"
  }
 },
 "nbformat": 4,
 "nbformat_minor": 5
}

{
 "cells": [
  {
   "cell_type": "markdown",
   "id": "d5bd98d5-8be5-4c5f-9373-a44ba29a4b1f",
   "metadata": {},
   "source": [
    "## Object Oriented Programming\n",
    "* Everything in python is an object\n",
    "* Object are instance of class.\n",
    "## How OOP is diffrent from POP\n",
    "POP (Procedural Programming) is based on top to bottom upproch.\n",
    "It is work on function call.\n",
    "OOP work on object calling."
   ]
  },
  {
   "cell_type": "markdown",
   "id": "175a350a-f8ef-4048-92f8-dd5907ae66c6",
   "metadata": {},
   "source": [
    "## Features of OOP"
   ]
  },
  {
   "cell_type": "markdown",
   "id": "dd6ca685-2d7e-45cd-854f-5b0f0581f94d",
   "metadata": {},
   "source": [
    "## Core Concepts in OOP\n",
    "* Object\n",
    "* Class\n",
    "* Inheritance\n",
    "* Polymorphism\n",
    "* Abstraction\n",
    "* Encapsulation"
   ]
  },
  {
   "cell_type": "markdown",
   "id": "6da7b616-d203-4e52-858f-5b999158106a",
   "metadata": {},
   "source": [
    "## class\n",
    "* A class is a blueprint for object\n",
    "* It is a collection of data members(variables) and methods.\n",
    "* Example of class- Bank,College,Country,Person\n",
    "## Object\n",
    "* Objects are instance of class.\n",
    "* Each object holds diffrent value for class.\n",
    "* Class properties only accessible by their objects."
   ]
  },
  {
   "cell_type": "code",
   "execution_count": 8,
   "id": "4e1d5636-76da-4e3f-bd44-1e85c5016ab2",
   "metadata": {},
   "outputs": [],
   "source": [
    "class FirstClass:\n",
    "    def show(self,num1,num2):\n",
    "        return num1+num2\n"
   ]
  },
  {
   "cell_type": "code",
   "execution_count": 9,
   "id": "e4c51c52-3dc8-48dd-8364-811b9fe5bf31",
   "metadata": {},
   "outputs": [
    {
     "data": {
      "text/plain": [
       "35"
      ]
     },
     "execution_count": 9,
     "metadata": {},
     "output_type": "execute_result"
    }
   ],
   "source": [
    "c=FirstClass()\n",
    "c.show(12,23)"
   ]
  },
  {
   "cell_type": "markdown",
   "id": "d980f6e8-8d60-4b6a-a13a-ec293bf2ac16",
   "metadata": {},
   "source": [
    "# What is self keyword ?"
   ]
  },
  {
   "cell_type": "markdown",
   "id": "a04160f6-bed4-458a-b6eb-2c2eb06cbc9c",
   "metadata": {},
   "source": [
    "* Self is similar to this keyword in java,c++,javascript\n",
    "* It is always return current instance of class\n",
    "* All methods and members are only access inside another method by only self keyword because self refrence to the object that is instantiate.\n",
    "* We use period(.) to invoke methods and members."
   ]
  },
  {
   "cell_type": "markdown",
   "id": "b2aa6dbb-1fcb-4bbf-9c81-f0398e87cd67",
   "metadata": {},
   "source": [
    "# constructor __init__()\n",
    "* __init__() is class constructor a special method that gets calld directly while object is get instantiate.\n"
   ]
  },
  {
   "cell_type": "markdown",
   "id": "e777c183-3171-47c4-b07c-4e4d37f28a86",
   "metadata": {},
   "source": [
    "## Why we need of constructor ?\n",
    "* It solve a very major problem that is configuration related task\n",
    "* In an application when user comes it first get authenticate so its credentials get check if its correct only then we want to use other method otherwise we dont want to expose our method.\n",
    "* So any configuration related code is written in constructor.\n",
    "## getters and setters\n",
    "* A method that return all values of class is getters.\n",
    "* A method that take input from user is called setter."
   ]
  },
  {
   "cell_type": "markdown",
   "id": "537fff50-7784-40c3-bf53-3c15915f0037",
   "metadata": {},
   "source": [
    "## dunder method\n",
    "* Magic Method or Dunder Method(double underscore __nameOfMethod__()) is a special method in python for specific task.\n",
    "* __str__ method used to print object of class.\n",
    "* __add__ method used to add values of two objects\n",
    "* __sub__ method used to subtract values of two objects\n",
    "* __mul__ method used to multiply values of two objects\n",
    "* __truediv__ method used to divide values of two objects"
   ]
  },
  {
   "cell_type": "code",
   "execution_count": 14,
   "id": "9189ea17-62f7-4ff3-a871-4bbc92f8a129",
   "metadata": {},
   "outputs": [],
   "source": [
    "class Person:\n",
    "    def __init__(self,age,name,gender,email,password):\n",
    "        self.age=age\n",
    "        self.name=name\n",
    "        self.gender=gender\n",
    "        self.password=password\n",
    "        self.email=email\n",
    "   \n",
    "    def __str__(self):\n",
    "        return f\"Hello I am{self.name}.I am {self.gender} and i am {self.age} years old.My Email is {self.email} and my password {self.password}\"\n",
    "    "
   ]
  },
  {
   "cell_type": "code",
   "execution_count": 15,
   "id": "f12c4916-a9c5-4e4c-bac0-f5d582eb5daf",
   "metadata": {},
   "outputs": [
    {
     "name": "stdout",
     "output_type": "stream",
     "text": [
      "Hello I amNeel.I am Male and i am 18 years old.My Email is vankar262@gmail.com and my password Neel0109*_\n"
     ]
    }
   ],
   "source": [
    "p1=Person(name=\"Neel\",age=18,gender=\"Male\",email=\"vankar262@gmail.com\",password=\"Neel0109*_\")\n",
    "print(p1)"
   ]
  },
  {
   "cell_type": "markdown",
   "id": "22618795-2b92-4e47-ba47-896623701d44",
   "metadata": {},
   "source": [
    "## how to call a method of inside another method of same class\n",
    "* self is the only thing that can access attributes of class so if we want to call any attribute inside class we have to self and then (.)"
   ]
  },
  {
   "cell_type": "code",
   "execution_count": 19,
   "id": "941409e8-05dc-49c7-878e-3e75e7c5d120",
   "metadata": {},
   "outputs": [],
   "source": [
    "class Person:\n",
    "    def __init__(self,name,age):\n",
    "        self.name=name\n",
    "        self.age=age\n",
    "    def show(self):\n",
    "        return f\"My name is  {self.name} and i am {self.age} \"\n",
    "    def display(self):\n",
    "        return self.show()"
   ]
  },
  {
   "cell_type": "code",
   "execution_count": 20,
   "id": "69dce04f-6834-4a0e-b667-491482e6c09f",
   "metadata": {},
   "outputs": [],
   "source": [
    "c=Person(\"Neel\",18)"
   ]
  },
  {
   "cell_type": "code",
   "execution_count": 21,
   "id": "69e0c0b1-d5ee-4796-9a88-4c9068f4860a",
   "metadata": {},
   "outputs": [
    {
     "data": {
      "text/plain": [
       "'My name is  Neel and i am 18 '"
      ]
     },
     "execution_count": 21,
     "metadata": {},
     "output_type": "execute_result"
    }
   ],
   "source": [
    "c.show()"
   ]
  },
  {
   "cell_type": "code",
   "execution_count": 22,
   "id": "028759b0-6d48-4258-966d-2250555f55db",
   "metadata": {},
   "outputs": [
    {
     "data": {
      "text/plain": [
       "'My name is  Neel and i am 18 '"
      ]
     },
     "execution_count": 22,
     "metadata": {},
     "output_type": "execute_result"
    }
   ],
   "source": [
    "c.display()"
   ]
  },
  {
   "cell_type": "markdown",
   "id": "f19775ba-8df2-491c-b4ee-5ab7e672290b",
   "metadata": {},
   "source": [
    "# Inheritance\n",
    "* This word comes from real word 'inherit' that mean to acquire some qualities.\n",
    "* In real world children takes some qualities either physical apperance or logical thinking from parent this is an example of inheritance.\n",
    "* Similar to this inheritance in object oriented programming is a way that one class acquire properties(variables and methods) of one or more  class.\n",
    "* The class that acquires the property is called child class we put (ParentClassName).\n",
    "## What is the need of inheritance\n",
    "* It support code reusability\n",
    "* Organize code structure\n",
    "## Types of inheritance\n",
    "* Single inheritance\n",
    "* Multilevel inheritance\n",
    "* Multiple inheritance\n",
    "* Heirarchical inheritance\n",
    "* Hybrid inheritance"
   ]
  },
  {
   "cell_type": "markdown",
   "id": "af4e4305-cc31-4489-8363-88e65d5d32c7",
   "metadata": {},
   "source": [
    "## Single Inheritance\n",
    "* One Parent class (Super class) and One Child class (Sub class)"
   ]
  },
  {
   "cell_type": "code",
   "execution_count": 43,
   "id": "2fc2b454-71de-4bd6-9a4a-0d88d0107faa",
   "metadata": {},
   "outputs": [],
   "source": [
    "class Device:\n",
    "    def __init__(self,storage,os,ram):\n",
    "        self.storage=storage\n",
    "        self.os=os\n",
    "        self.ram=ram\n",
    "    def show(self):\n",
    "        return f\"\"\"Device details :\n",
    "        strorage:{self.storage}\n",
    "        os:{self.os}\n",
    "        ram:{self.ram}\n",
    "        \"\"\"\n",
    "class LapTop(Device):\n",
    "    def __init__(self,processor,graphicsCard,display,gamingOptions,modelName,storage,os,ram,serialNumber,macAddress):\n",
    "        self.processor=processor\n",
    "        self.graphicsCard=graphicsCard\n",
    "        self.macAddress=macAddress\n",
    "        self.display=display\n",
    "        self.serialNumber=serialNumber\n",
    "        self.modelName=modelName\n",
    "        self.gamingOptions=gamingOptions\n",
    "    # calling parent constructor\n",
    "        super().__init__(storage,os,ram)\n",
    "        \n",
    "    def __str__(self):\n",
    "        return f\"{self.processor,self.graphicsCard,self.display,self.gamingOptions,self.modelName,self.macAddress,self.serialNumber,self.os,self.ram,self.storage}\""
   ]
  },
  {
   "cell_type": "code",
   "execution_count": 44,
   "id": "7f8c4e35-d851-4044-8da6-77b6379350a4",
   "metadata": {},
   "outputs": [
    {
     "name": "stdout",
     "output_type": "stream",
     "text": [
      "('Intel i5', 'Nvidia', '15.6 \"FHD 120Hz display ', 'gamebar', 'Dell G15', '68-7A-64-17-4R-5A', '2894342', 'Windows 11', '8GB', '512GB')\n"
     ]
    },
    {
     "data": {
      "text/plain": [
       "'Device details :\\n        strorage:512GB\\n        os:Windows 11\\n        ram:8GB\\n        '"
      ]
     },
     "execution_count": 44,
     "metadata": {},
     "output_type": "execute_result"
    }
   ],
   "source": [
    "dell=LapTop(\"Intel i5\",\"Nvidia\",\"15.6 \\\"FHD 120Hz display \",\"gamebar\",\"Dell G15\",\"512GB\",\"Windows 11\",\"8GB\",\"2894342\",\"68-7A-64-17-4R-5A\")\n",
    "print(dell)\n",
    "dell.show()  #accssing parent method"
   ]
  },
  {
   "cell_type": "markdown",
   "id": "f60bb2cf-c7f9-425e-875a-026f13525a33",
   "metadata": {},
   "source": [
    "## Multilevel inheritance\n",
    "* In this type of inheritance there is a chain of parent child\n",
    "* Start with a super parent class then parent at last child and this could be n number of class both side\n",
    "* The last child class has access to all non private methods of above classes. "
   ]
  },
  {
   "cell_type": "code",
   "execution_count": 47,
   "id": "9e456aaa-fb06-49a9-9431-53e178a6694c",
   "metadata": {},
   "outputs": [],
   "source": [
    "class Device:\n",
    "    def __init__(self,storage,os,ram):\n",
    "        self.storage=storage\n",
    "        self.os=os\n",
    "        self.ram=ram\n",
    "    def show(self):\n",
    "        return f\"\"\"Device details :\n",
    "        strorage:{self.storage}\n",
    "        os:{self.os}\n",
    "        ram:{self.ram}\n",
    "        \"\"\"\n",
    "class Computer(Device):\n",
    "    def __init__(self,processor,graphicsCard,display,gamingOptions,modelName,storage,os,ram,serialNumber,macAddress):\n",
    "        self.processor=processor\n",
    "        self.graphicsCard=graphicsCard\n",
    "        self.macAddress=macAddress\n",
    "        self.display=display\n",
    "        self.serialNumber=serialNumber\n",
    "        self.modelName=modelName\n",
    "        self.gamingOptions=gamingOptions\n",
    "    # calling parent constructor\n",
    "        super().__init__(storage,os,ram)\n",
    "        \n",
    "    def __str__(self):\n",
    "        return f\"{self.processor,self.graphicsCard,self.display,self.gamingOptions,self.modelName,self.macAddress,self.serialNumber,self.os,self.ram,self.storage}\"\n",
    "\n",
    "# child of Computer class\n",
    "class NoramLaptop(Computer):\n",
    "    def __init__(self,processor,display,modelName,storage,os,ram,serialNumber,macAddress):\n",
    "        super().__init__(processor,display,modelName,storage,os,ram,serialNumber,macAddress)\n",
    "\n",
    "# PC class has access to all above class\n",
    "class PC(NoramLaptop):\n",
    "    def __init__(self,processor,display,modelName,storage,os,ram,serialNumber,macAddress,noOfCPU,ethernateSupport):\n",
    "        super().__init__(processor,display,modelName,storage,os,ram,serialNumber,macAddress)\n",
    "        self.ethernateSupport=ethernateSupport\n",
    "        self.noOfCPU=noOfCPU\n",
    "        "
   ]
  },
  {
   "cell_type": "markdown",
   "id": "cfe496e2-5b43-4f07-af63-b36e7cfc06e8",
   "metadata": {},
   "source": [
    "## Multiple Inheritance\n",
    "* Multiple Parent class and one child class"
   ]
  },
  {
   "cell_type": "code",
   "execution_count": 56,
   "id": "4ee332d9-77d6-4351-9505-5f11bbb5bd91",
   "metadata": {},
   "outputs": [],
   "source": [
    "class Shirt:\n",
    "    def show(self):\n",
    "        return \"I have wear a shirt\"\n",
    "class TShirt:\n",
    "    def showTShirt(self):\n",
    "        return \"I have wear a tshirt\"\n",
    "class Jacket:\n",
    "    def showJacket(self):\n",
    "        return \"I have wear a jacket\"\n",
    "class Person(Shirt,Jacket,TShirt):\n",
    "    def wear(self):\n",
    "        return super().show()\n",
    "        super().showJacket()\n",
    "        super().showTShirt()"
   ]
  },
  {
   "cell_type": "code",
   "execution_count": 59,
   "id": "67875abe-a15f-4081-91cc-77f0654593d7",
   "metadata": {},
   "outputs": [
    {
     "name": "stdout",
     "output_type": "stream",
     "text": [
      "I have wear a shirt\n"
     ]
    },
    {
     "data": {
      "text/plain": [
       "'I have wear a jacket'"
      ]
     },
     "execution_count": 59,
     "metadata": {},
     "output_type": "execute_result"
    }
   ],
   "source": [
    "c=Person()\n",
    "print(c.wear())\n",
    "c.showJacket()"
   ]
  },
  {
   "cell_type": "markdown",
   "id": "79d9b6df-fa1f-4251-a2de-c6d85d105bd8",
   "metadata": {},
   "source": [
    "##  Heirarchical inheritance\n",
    "* Parent - child hierarchy where one parent have more than one child all child are sibling classes.\n"
   ]
  },
  {
   "cell_type": "code",
   "execution_count": 60,
   "id": "7b79c069-8f63-4641-8352-700d063c7ae6",
   "metadata": {},
   "outputs": [],
   "source": [
    "class Animal:\n",
    "    def __init__(self,name,numberofLegs,color,willorDomestic):\n",
    "        self.name=name\n",
    "        self.numberofLegs=numberofLegs\n",
    "        self.color=color\n",
    "        self.willorDomestic=willorDomestic\n",
    "    def show(self):\n",
    "        return f\"{self.name,self.numberofLegs,self.color,self.willorDomestic}\""
   ]
  },
  {
   "cell_type": "code",
   "execution_count": 64,
   "id": "3f53fa32-620c-48cc-9da4-49a1189595e9",
   "metadata": {},
   "outputs": [],
   "source": [
    "# child classes\n",
    "class Tiger(Animal):\n",
    "    def __init__(self,name,numberofLegs,color,willorDomestic):\n",
    "        super().__init__(name,numberofLegs,color,willorDomestic)\n",
    "class Lion(Animal):\n",
    "     def __init__(self,name,numberofLegs,color,willorDomestic):\n",
    "        super().__init__(name,numberofLegs,color,willorDomestic)\n",
    "class Cow(Animal):\n",
    "     def __init__(self,name,numberofLegs,color,willorDomestic):\n",
    "        super().__init__(name,numberofLegs,color,willorDomestic)\n",
    "class Goat(Animal):\n",
    "     def __init__(self,name,numberofLegs,color,willorDomestic):\n",
    "        super().__init__(name,numberofLegs,color,willorDomestic)\n",
    "\n",
    "    "
   ]
  },
  {
   "cell_type": "code",
   "execution_count": 62,
   "id": "0a0aa2b6-24ab-44fc-b51b-f1a4110fe8ae",
   "metadata": {},
   "outputs": [],
   "source": [
    "g=Goat(\"xyz\",4,\"white\",\"domestic\")"
   ]
  },
  {
   "cell_type": "code",
   "execution_count": 63,
   "id": "6876e226-59ae-4657-9495-f20289d3df5a",
   "metadata": {},
   "outputs": [
    {
     "data": {
      "text/plain": [
       "\"('xyz', 4, 'white', 'domestic')\""
      ]
     },
     "execution_count": 63,
     "metadata": {},
     "output_type": "execute_result"
    }
   ],
   "source": [
    "g.show()"
   ]
  },
  {
   "cell_type": "markdown",
   "id": "4fdba5c5-1788-4725-b333-56e40d4a5d3f",
   "metadata": {},
   "source": [
    "# Hybrid Inheritance\n",
    "* More than one type of inheritance implement in system\n",
    "* Almost in every application\n",
    "* for example -Hospital Management System"
   ]
  },
  {
   "cell_type": "code",
   "execution_count": 68,
   "id": "78bef8c4-7268-402c-9ac8-f5a86f779546",
   "metadata": {},
   "outputs": [],
   "source": [
    "class Hospital:\n",
    "    def __init__(self,nameOfHospital,address,noOfDepartments,noOfDoctors,noOfNurses,noOfWardBoys,noOfSecurity,noOfRoom,noOfBuilding,noOfBeds):\n",
    "        self.nameOfHospital=nameOfHospital\n",
    "        self.address=address\n",
    "        self.noOfDepartments=noOfDepartments\n",
    "        self.noOfDoctors=noOfDoctors\n",
    "        self.noOfNurses=noOfNurses\n",
    "        self.noOfWardBoys=noOfWardBoys\n",
    "        self.noOfSecurity=noOfSecurity\n",
    "        self.noOfRoom=noOfRoom\n",
    "        self.noOfBuilding=noOfBuilding\n",
    "        self.noOfBeds=noOfBeds\n",
    "class Patient:\n",
    "    def __init__(self,name,age,gender,dateOFAdmit,diseasName):\n",
    "         self.name=name\n",
    "         self.age=age\n",
    "         self.gender=gender\n",
    "         self.dateOFAdmit=dateOFAdmit\n",
    "         self.diseasName=diseasName\n",
    "class Admit(Patient):\n",
    "    def __init__(self,name,age,gender,dateOFAdmit,diseasName,roomNo,buildingNumber,bedNo):\n",
    "        super().__init__(name,age,gender,dateOFAdmit,diseasName)\n",
    "        self.roomNo=roomNo\n",
    "        self.buildingNumber=buildingNumber\n",
    "        self.bedNo=bedNo\n",
    "class Doctor(Patient):\n",
    "    def __init__(self,name,gender,age,qualification,yearOfExperience):\n",
    "        super().__init__(name,gender,age)\n",
    "        self.qualification=qualification\n",
    "        self.yearOfExperience=yearOfExperience\n",
    "    "
   ]
  },
  {
   "cell_type": "markdown",
   "id": "83a3d97a-93b2-4d09-81f4-58206c2223f2",
   "metadata": {},
   "source": [
    "In the above code hybrid inheritance is perform "
   ]
  },
  {
   "cell_type": "markdown",
   "id": "65f47070-efa9-402d-837a-38aa7b5b8115",
   "metadata": {},
   "source": [
    "# Polymorphism\n",
    "* This term suggest that more than one form.\n",
    "* Class method works diffrent based on user input is called polymorphism.\n",
    "## Static Polymorphism(Method Overloading)\n",
    "* Python doesnt support imlicitly.\n",
    "* Explicitly can be implement in this a class has more than one method with the same name but diffrent no of parameters or diffrent order of parameter and the correct method gets called based on user input.\n",
    "## Dynamic Polymorphism(Method Overriding)\n",
    "* In inheritance if child class a method with the same name in parent class it gets override and that means when we create instance for child class the method declare in child class gets called.\n",
    "## Operator Overloading\n",
    "* Behaviour of operators to do more than one work at diffrent time."
   ]
  },
  {
   "cell_type": "markdown",
   "id": "d2060059-5637-4311-bdfb-5e7e197ce9e2",
   "metadata": {},
   "source": [
    "## Static Polymorphism(Method Overloading)"
   ]
  },
  {
   "cell_type": "code",
   "execution_count": 101,
   "id": "c75050a6-5094-44ef-b5f8-0c7a2772b611",
   "metadata": {},
   "outputs": [],
   "source": [
    "class Mathmatics:\n",
    "    def area(self,length,bredth):\n",
    "        res=length*bredth\n",
    "        return f\"area of rectangle is {res}\"\n",
    "    def area(self,radius):\n",
    "        res=3.14*radius*radius\n",
    "        return f\"the area of triangle is {int(res)}\""
   ]
  },
  {
   "cell_type": "code",
   "execution_count": 102,
   "id": "3fe81ac4-8909-4e75-89aa-89e5e5349abf",
   "metadata": {},
   "outputs": [
    {
     "data": {
      "text/plain": [
       "'the area of triangle is 12'"
      ]
     },
     "execution_count": 102,
     "metadata": {},
     "output_type": "execute_result"
    }
   ],
   "source": [
    "c=Mathmatics()\n",
    "c.area(2)\n"
   ]
  },
  {
   "cell_type": "code",
   "execution_count": 103,
   "id": "c6d0af2f-94fb-4372-9a3d-afd0660404b1",
   "metadata": {},
   "outputs": [
    {
     "ename": "TypeError",
     "evalue": "Mathmatics.area() takes 2 positional arguments but 3 were given",
     "output_type": "error",
     "traceback": [
      "\u001b[1;31m---------------------------------------------------------------------------\u001b[0m",
      "\u001b[1;31mTypeError\u001b[0m                                 Traceback (most recent call last)",
      "Cell \u001b[1;32mIn[103], line 1\u001b[0m\n\u001b[1;32m----> 1\u001b[0m c\u001b[38;5;241m.\u001b[39marea(\u001b[38;5;241m12\u001b[39m,\u001b[38;5;241m23\u001b[39m)\n",
      "\u001b[1;31mTypeError\u001b[0m: Mathmatics.area() takes 2 positional arguments but 3 were given"
     ]
    }
   ],
   "source": [
    "c.area(12,23)"
   ]
  },
  {
   "cell_type": "markdown",
   "id": "9e910aad-066e-4fe2-934f-d58ccc11069e",
   "metadata": {},
   "source": [
    "As the above code produce error because no impilictly python interpreter support one class can have two methods with same name and serve diffrent purpose\n",
    "* below is the updated code."
   ]
  },
  {
   "cell_type": "code",
   "execution_count": 118,
   "id": "fceaf8cc-9272-458d-a292-dd9d7d923d41",
   "metadata": {},
   "outputs": [],
   "source": [
    "class Mathmatics:\n",
    "    def area(self,length=0,bredth=0,radius=0):\n",
    "        if (length!=0 and bredth!=0):\n",
    "            res=length*bredth\n",
    "            return f\"area of rectangle is {int(res)}\"\n",
    "        else:\n",
    "            res=3.14*radius*radius\n",
    "            return f\"area of circle is {int(res)}\""
   ]
  },
  {
   "cell_type": "code",
   "execution_count": 120,
   "id": "70b2e2a2-69cb-4452-bed6-be0e43f5c526",
   "metadata": {},
   "outputs": [
    {
     "name": "stdout",
     "output_type": "stream",
     "text": [
      "area of rectangle is 12\n",
      "area of circle is 28\n"
     ]
    }
   ],
   "source": [
    "c=Mathmatics()\n",
    "print(c.area(4,3))\n",
    "print(c.area(radius=3))"
   ]
  },
  {
   "cell_type": "markdown",
   "id": "0acdf6ab-77b6-4f0f-bea5-2141b1acba00",
   "metadata": {},
   "source": [
    "## Dynamic Polymorphism(Method Overriding)"
   ]
  },
  {
   "cell_type": "code",
   "execution_count": 78,
   "id": "dd776a6a-7e8f-4a8c-9bbb-ff0c0885b450",
   "metadata": {},
   "outputs": [],
   "source": [
    "class Parent:\n",
    "    def display(self):\n",
    "        return \"parent method\"\n",
    "class Child:\n",
    "    # method override\n",
    "    def display(self):\n",
    "        return \"child method\""
   ]
  },
  {
   "cell_type": "code",
   "execution_count": 79,
   "id": "4da473df-9f84-404d-b8b1-1e4564081907",
   "metadata": {},
   "outputs": [
    {
     "data": {
      "text/plain": [
       "'child method'"
      ]
     },
     "execution_count": 79,
     "metadata": {},
     "output_type": "execute_result"
    }
   ],
   "source": [
    "c=Child()\n",
    "c.display()"
   ]
  },
  {
   "cell_type": "markdown",
   "id": "b0acfa41-0b8c-4d2f-9c2c-16e8583670a5",
   "metadata": {},
   "source": [
    "## Operator Overloading\n",
    " '+' operator\n",
    "* for number it will add,for string it will concatenate two string,for array or tupple it will perform merge opeation\n",
    "* '*' operator\n",
    "* for number it will perform multiply and for string*number the string get add at the end of it number of times\n",
    "* Also the magic dunder method are there '\\__add__\\','\\__sub__\\','\\__mul__\\'"
   ]
  },
  {
   "cell_type": "code",
   "execution_count": 86,
   "id": "013dfc5c-211e-48a2-9fab-92c6fd2631a5",
   "metadata": {},
   "outputs": [
    {
     "data": {
      "text/plain": [
       "11"
      ]
     },
     "execution_count": 86,
     "metadata": {},
     "output_type": "execute_result"
    }
   ],
   "source": [
    "5+6"
   ]
  },
  {
   "cell_type": "code",
   "execution_count": 87,
   "id": "7dcd0391-7f33-4905-a9d3-cf2d0846bfc5",
   "metadata": {},
   "outputs": [
    {
     "data": {
      "text/plain": [
       "'abcxyz'"
      ]
     },
     "execution_count": 87,
     "metadata": {},
     "output_type": "execute_result"
    }
   ],
   "source": [
    "\"abc\"+\"xyz\""
   ]
  },
  {
   "cell_type": "code",
   "execution_count": 88,
   "id": "e2322c89-8262-460b-88a5-a9b74bcfa7ff",
   "metadata": {},
   "outputs": [
    {
     "data": {
      "text/plain": [
       "[1, 2, 3, 4, 5, 6]"
      ]
     },
     "execution_count": 88,
     "metadata": {},
     "output_type": "execute_result"
    }
   ],
   "source": [
    "[1,2,3]+[4,5,6]"
   ]
  },
  {
   "cell_type": "code",
   "execution_count": 90,
   "id": "2b4f8404-a245-4a9d-bb1f-d088a4a0c9a8",
   "metadata": {},
   "outputs": [
    {
     "data": {
      "text/plain": [
       "(1, 2, 3, 4, 5, 6)"
      ]
     },
     "execution_count": 90,
     "metadata": {},
     "output_type": "execute_result"
    }
   ],
   "source": [
    "r=(1,2,3)+(4,5,6)\n",
    "r"
   ]
  },
  {
   "cell_type": "code",
   "execution_count": 91,
   "id": "ace004e4-4167-488b-b9aa-c3b0f1161c6e",
   "metadata": {},
   "outputs": [
    {
     "data": {
      "text/plain": [
       "24"
      ]
     },
     "execution_count": 91,
     "metadata": {},
     "output_type": "execute_result"
    }
   ],
   "source": [
    "12*2"
   ]
  },
  {
   "cell_type": "code",
   "execution_count": 92,
   "id": "543cbb86-e809-4505-9b0b-ea984e92115e",
   "metadata": {},
   "outputs": [
    {
     "data": {
      "text/plain": [
       "'abcabcabc'"
      ]
     },
     "execution_count": 92,
     "metadata": {},
     "output_type": "execute_result"
    }
   ],
   "source": [
    "\"abc\"*3"
   ]
  },
  {
   "cell_type": "markdown",
   "id": "1326bcff-ae7b-40fe-8b23-27d91cfa41dd",
   "metadata": {},
   "source": [
    "## Encapsulation\n",
    "* Wrapping method and data(variables) into single unit is called class is known as Encapsulation."
   ]
  },
  {
   "cell_type": "code",
   "execution_count": 124,
   "id": "fb4ce7ca-a46e-4059-9ff9-47a7fa70549c",
   "metadata": {},
   "outputs": [],
   "source": [
    "class Person:\n",
    "    def __init__(self,name,country):\n",
    "        self.name=name\n",
    "        self.country=country\n",
    "    def __str__(self):\n",
    "        return f\"Hello my name is {self.name} and i am from {self.country}\""
   ]
  },
  {
   "cell_type": "code",
   "execution_count": 125,
   "id": "efd5e519-e735-43cf-9ca2-9413cec9ff71",
   "metadata": {},
   "outputs": [],
   "source": [
    "a=Person(\"Neel\",\"India\")\n",
    "b=Person(\"Robert Downey\",\"USA\")"
   ]
  },
  {
   "cell_type": "code",
   "execution_count": 127,
   "id": "076d8f5d-6053-4eb6-ad60-4638ef46cc34",
   "metadata": {},
   "outputs": [
    {
     "name": "stdout",
     "output_type": "stream",
     "text": [
      "Hello my name is Neel and i am from India\n"
     ]
    }
   ],
   "source": [
    "print(a)"
   ]
  },
  {
   "cell_type": "markdown",
   "id": "f431e11b-dcd3-44ff-885d-aa91702d81da",
   "metadata": {},
   "source": [
    "# instance variables and class variables\n",
    "## instance variables\n",
    "* At the time of instantitation the variables for which every object has new value is called instance variable\n",
    "* Generally inside constructor\n",
    "## class (Static) variables\n",
    "* At the time of instantitation the variables for every object has same value is called static variable\n",
    "* Generally before constructor\n",
    "* below code implemented unique counter"
   ]
  },
  {
   "cell_type": "code",
   "execution_count": 144,
   "id": "8dba3dc2-8c3c-4dd8-b24a-79d8aa9cc48b",
   "metadata": {},
   "outputs": [],
   "source": [
    "class Person:\n",
    "    id=0\n",
    "    def __init__(self,name,country):\n",
    "        self.name=name\n",
    "        self.__uid=Person.id\n",
    "        Person.id+=1\n",
    "        self.country=country\n",
    "    def __str__(self):\n",
    "        return f\"Hello my name is {self.name} and i am from {self.country}\""
   ]
  },
  {
   "cell_type": "code",
   "execution_count": 152,
   "id": "53f0c715-3252-4705-ad09-37c5abbe9cdf",
   "metadata": {},
   "outputs": [],
   "source": [
    "a=Person(\"Neel\",\"India\")\n"
   ]
  },
  {
   "cell_type": "code",
   "execution_count": 153,
   "id": "6937a181-4e79-48f1-b0bf-f1f02a57a69b",
   "metadata": {},
   "outputs": [
    {
     "name": "stdout",
     "output_type": "stream",
     "text": [
      "3\n"
     ]
    }
   ],
   "source": [
    "print(a.id)\n"
   ]
  },
  {
   "cell_type": "code",
   "execution_count": 154,
   "id": "48981ab5-6b54-4c7b-9a93-60bb818e7a94",
   "metadata": {},
   "outputs": [],
   "source": [
    "b=Person(\"Robert Downey\",\"USA\")"
   ]
  },
  {
   "cell_type": "code",
   "execution_count": 155,
   "id": "9eeed065-31f0-4128-ad2a-8bc8f770839f",
   "metadata": {},
   "outputs": [
    {
     "name": "stdout",
     "output_type": "stream",
     "text": [
      "4\n"
     ]
    }
   ],
   "source": [
    "print(b.id)\n"
   ]
  },
  {
   "cell_type": "markdown",
   "id": "90d39331-eea1-4305-9bff-a893e59e6564",
   "metadata": {},
   "source": [
    "## changing instance variable  value outside of the class"
   ]
  },
  {
   "cell_type": "code",
   "execution_count": 156,
   "id": "e9e4a290-1489-41d1-a03d-2a0ca2957493",
   "metadata": {},
   "outputs": [],
   "source": [
    "a.name=\"abhishekh\""
   ]
  },
  {
   "cell_type": "code",
   "execution_count": 157,
   "id": "8d218221-bba5-4151-a809-3b622f4e316a",
   "metadata": {},
   "outputs": [
    {
     "name": "stdout",
     "output_type": "stream",
     "text": [
      "abhishekh\n"
     ]
    }
   ],
   "source": [
    "print(a.name)\n"
   ]
  },
  {
   "cell_type": "markdown",
   "id": "89bd7118-7b17-4ddf-83cf-0f4311df8ffa",
   "metadata": {},
   "source": [
    "## Access specifiers(visibility labels)\n",
    "* Access specifiers is used to control access of variables in python so it cannot be access outside of the class\n",
    "## Type of Access specifiers\n",
    "* 1)Public--Access anywhere from outside also\n",
    "* Private--only access by instance of that class\n",
    "* Protected--access by instance of own class as well as sub class"
   ]
  },
  {
   "cell_type": "markdown",
   "id": "b7272d9e-b846-4905-9c97-48e50003a22f",
   "metadata": {},
   "source": [
    "# private variables and methods\n",
    "* To make attributes private we put (__)double undescores\n",
    "* Now it cannot be access outside"
   ]
  },
  {
   "cell_type": "code",
   "execution_count": 180,
   "id": "2eaa42e1-ef8a-4a77-a026-25ce78929359",
   "metadata": {},
   "outputs": [],
   "source": [
    "class User:\n",
    "    def __init__(self,name,pin,accountNo,ifscCode):\n",
    "        self.name=name\n",
    "        self.__pin=pin\n",
    "        self.accountNo=accountNo\n",
    "        self.ifscCode=ifscCode\n",
    "    def __show(self):\n",
    "        try:\n",
    "            return f\"{self.name,self.pin,self.accountNo,self.ifscCode}\"\n",
    "        except AttributeError:\n",
    "            print(\"pin is secure\")"
   ]
  },
  {
   "cell_type": "code",
   "execution_count": 182,
   "id": "efd401d7-1a0a-46c5-8398-2121a06a8875",
   "metadata": {},
   "outputs": [
    {
     "name": "stdout",
     "output_type": "stream",
     "text": [
      "pin is secure\n",
      "None\n",
      "1234\n"
     ]
    }
   ],
   "source": [
    "c=User(\"Neel\",1234,\"250510349834\",\"jbef309472\")\n",
    "# c.show() #produce error because now pin is private variable\n",
    "print(c._User__show())\n",
    "print(c._User__pin)"
   ]
  },
  {
   "cell_type": "markdown",
   "id": "3ea4a3b8-95c6-4729-aad3-0a22aa53ddbb",
   "metadata": {},
   "source": [
    "# protected variables and methods\n",
    "* To make attributes private we put (_)single undescores\n",
    "* Now it cannot be access outside\n",
    "* only instance of child class as well as its own instance can access this attributes"
   ]
  },
  {
   "cell_type": "code",
   "execution_count": 171,
   "id": "7b52106f-39d1-43f4-8e79-e26fc913262e",
   "metadata": {},
   "outputs": [],
   "source": [
    "class User:\n",
    "    def __init__(self,name,pin,accountNo,ifscCode):\n",
    "        self.name=name\n",
    "        self._pin=pin\n",
    "        self.accountNo=accountNo\n",
    "        self.ifscCode=ifscCode\n",
    "    def _show(self):\n",
    "        try:\n",
    "            return f\"{self.name,self.pin,self.accountNo,self.ifscCode}\"\n",
    "        except AttributeError:\n",
    "            print(\"pin is secure\")\n",
    "class Account(User):\n",
    "    def __init__(self,name,pin,accountNo,ifscCode):\n",
    "        super().__init__(name,pin,accountNo,ifscCode)\n",
    "    "
   ]
  },
  {
   "cell_type": "code",
   "execution_count": 175,
   "id": "0399377c-1479-407c-9918-f6537661eea5",
   "metadata": {},
   "outputs": [
    {
     "data": {
      "text/plain": [
       "1234"
      ]
     },
     "execution_count": 175,
     "metadata": {},
     "output_type": "execute_result"
    }
   ],
   "source": [
    "c=User(\"Neel\",1234,\"250510349834\",\"jbef309472\")\n",
    "c._pin"
   ]
  },
  {
   "cell_type": "code",
   "execution_count": 177,
   "id": "06cdb360-49c0-4663-95e4-93ae2372cd69",
   "metadata": {},
   "outputs": [
    {
     "ename": "AttributeError",
     "evalue": "'User' object has no attribute 'show'",
     "output_type": "error",
     "traceback": [
      "\u001b[1;31m---------------------------------------------------------------------------\u001b[0m",
      "\u001b[1;31mAttributeError\u001b[0m                            Traceback (most recent call last)",
      "Cell \u001b[1;32mIn[177], line 1\u001b[0m\n\u001b[1;32m----> 1\u001b[0m c\u001b[38;5;241m.\u001b[39mshow()\n",
      "\u001b[1;31mAttributeError\u001b[0m: 'User' object has no attribute 'show'"
     ]
    }
   ],
   "source": [
    "c.show()\n",
    "# becuase show is protected"
   ]
  },
  {
   "cell_type": "code",
   "execution_count": null,
   "id": "1d0f1320-feaf-4799-9583-3aef9dcd26a3",
   "metadata": {},
   "outputs": [],
   "source": []
  }
 ],
 "metadata": {
  "kernelspec": {
   "display_name": "Python 3 (ipykernel)",
   "language": "python",
   "name": "python3"
  },
  "language_info": {
   "codemirror_mode": {
    "name": "ipython",
    "version": 3
   },
   "file_extension": ".py",
   "mimetype": "text/x-python",
   "name": "python",
   "nbconvert_exporter": "python",
   "pygments_lexer": "ipython3",
   "version": "3.11.7"
  }
 },
 "nbformat": 4,
 "nbformat_minor": 5
}

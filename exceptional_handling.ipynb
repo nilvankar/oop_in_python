{
 "cells": [
  {
   "cell_type": "markdown",
   "id": "244e8424-587c-4705-8be3-8ad5303b5ef3",
   "metadata": {},
   "source": [
    "## What is Exceptions\n",
    "In Python or any programming language there are two types of error\n",
    "* 1)Compiletime Exceptions(Syntatic errors)\n",
    "* 2)Runtime Exceptions(Exceptions)"
   ]
  },
  {
   "cell_type": "markdown",
   "id": "594b1c6a-97b8-4a9f-82dd-e409758d01cc",
   "metadata": {},
   "source": [
    "## compile time error\n",
    "* Grammatic mistake while using keywords\n",
    "* use of wrong special characters for example while making list we use [] instead of this developer might use () makes it a tuple now it cannotuse list class methods\n",
    "* indentation error"
   ]
  },
  {
   "cell_type": "markdown",
   "id": "231c2b21-d7f4-4c9f-8bc9-b4de2bc0e658",
   "metadata": {},
   "source": [
    "## SyntaxError"
   ]
  },
  {
   "cell_type": "code",
   "execution_count": 1,
   "id": "45631575-c2e2-4b92-af6d-78980bebca30",
   "metadata": {},
   "outputs": [
    {
     "ename": "SyntaxError",
     "evalue": "Missing parentheses in call to 'print'. Did you mean print(...)? (3923495743.py, line 1)",
     "output_type": "error",
     "traceback": [
      "\u001b[1;36m  Cell \u001b[1;32mIn[1], line 1\u001b[1;36m\u001b[0m\n\u001b[1;33m    print \"hello world\"\u001b[0m\n\u001b[1;37m    ^\u001b[0m\n\u001b[1;31mSyntaxError\u001b[0m\u001b[1;31m:\u001b[0m Missing parentheses in call to 'print'. Did you mean print(...)?\n"
     ]
    }
   ],
   "source": [
    "print \"hello world\""
   ]
  },
  {
   "cell_type": "markdown",
   "id": "0873ac8b-ad57-44d4-9350-07c4834066e9",
   "metadata": {},
   "source": [
    "## indentation error"
   ]
  },
  {
   "cell_type": "code",
   "execution_count": 2,
   "id": "7891769a-06ed-4805-beaf-4f26e1f06a0e",
   "metadata": {},
   "outputs": [
    {
     "ename": "IndentationError",
     "evalue": "expected an indented block after 'for' statement on line 2 (2231749825.py, line 3)",
     "output_type": "error",
     "traceback": [
      "\u001b[1;36m  Cell \u001b[1;32mIn[2], line 3\u001b[1;36m\u001b[0m\n\u001b[1;33m    print(i)\u001b[0m\n\u001b[1;37m    ^\u001b[0m\n\u001b[1;31mIndentationError\u001b[0m\u001b[1;31m:\u001b[0m expected an indented block after 'for' statement on line 2\n"
     ]
    }
   ],
   "source": [
    "L=[1,2,3,4]\n",
    "for i in L:\n",
    "print(i)\n"
   ]
  },
  {
   "cell_type": "markdown",
   "id": "81e9f591-8773-440c-8043-c0e3aad323c5",
   "metadata": {},
   "source": [
    "## IndexError"
   ]
  },
  {
   "cell_type": "code",
   "execution_count": 4,
   "id": "e36d9e23-6fa0-4281-8db6-da8563a1a910",
   "metadata": {},
   "outputs": [
    {
     "ename": "IndexError",
     "evalue": "list index out of range",
     "output_type": "error",
     "traceback": [
      "\u001b[1;31m---------------------------------------------------------------------------\u001b[0m",
      "\u001b[1;31mIndexError\u001b[0m                                Traceback (most recent call last)",
      "Cell \u001b[1;32mIn[4], line 2\u001b[0m\n\u001b[0;32m      1\u001b[0m L\u001b[38;5;241m=\u001b[39m[\u001b[38;5;241m1\u001b[39m,\u001b[38;5;241m2\u001b[39m,\u001b[38;5;241m3\u001b[39m,\u001b[38;5;241m4\u001b[39m]\n\u001b[1;32m----> 2\u001b[0m \u001b[38;5;28mprint\u001b[39m(L[\u001b[38;5;241m4\u001b[39m])\n",
      "\u001b[1;31mIndexError\u001b[0m: list index out of range"
     ]
    }
   ],
   "source": [
    "L=[1,2,3,4]\n",
    "print(L[4])\n"
   ]
  },
  {
   "cell_type": "markdown",
   "id": "48ebb7e3-8811-4852-95ee-81b19ae983b5",
   "metadata": {},
   "source": [
    "## ValueError\n",
    "* when provided value diffrent type"
   ]
  },
  {
   "cell_type": "code",
   "execution_count": 1,
   "id": "df28530f-fcd6-4370-82b4-f3c9c302152b",
   "metadata": {},
   "outputs": [],
   "source": [
    "def addNum():\n",
    "    num1=int(input(\"Enter num1:\"))\n",
    "    num2=int(input(\"Enter num2:\"))\n",
    "    res=num1+num2\n",
    "    return res"
   ]
  },
  {
   "cell_type": "code",
   "execution_count": 2,
   "id": "6987a0fc-3927-4481-b1e3-6cc95d979f4e",
   "metadata": {},
   "outputs": [
    {
     "name": "stdin",
     "output_type": "stream",
     "text": [
      "Enter num1: zyz\n"
     ]
    },
    {
     "ename": "ValueError",
     "evalue": "invalid literal for int() with base 10: 'zyz'",
     "output_type": "error",
     "traceback": [
      "\u001b[1;31m---------------------------------------------------------------------------\u001b[0m",
      "\u001b[1;31mValueError\u001b[0m                                Traceback (most recent call last)",
      "Cell \u001b[1;32mIn[2], line 1\u001b[0m\n\u001b[1;32m----> 1\u001b[0m addNum()\n",
      "Cell \u001b[1;32mIn[1], line 2\u001b[0m, in \u001b[0;36maddNum\u001b[1;34m()\u001b[0m\n\u001b[0;32m      1\u001b[0m \u001b[38;5;28;01mdef\u001b[39;00m \u001b[38;5;21maddNum\u001b[39m():\n\u001b[1;32m----> 2\u001b[0m     num1\u001b[38;5;241m=\u001b[39m\u001b[38;5;28mint\u001b[39m(\u001b[38;5;28minput\u001b[39m(\u001b[38;5;124m\"\u001b[39m\u001b[38;5;124mEnter num1:\u001b[39m\u001b[38;5;124m\"\u001b[39m))\n\u001b[0;32m      3\u001b[0m     num2\u001b[38;5;241m=\u001b[39m\u001b[38;5;28mint\u001b[39m(\u001b[38;5;28minput\u001b[39m(\u001b[38;5;124m\"\u001b[39m\u001b[38;5;124mEnter num2:\u001b[39m\u001b[38;5;124m\"\u001b[39m))\n\u001b[0;32m      4\u001b[0m     res\u001b[38;5;241m=\u001b[39mnum1\u001b[38;5;241m+\u001b[39mnum2\n",
      "\u001b[1;31mValueError\u001b[0m: invalid literal for int() with base 10: 'zyz'"
     ]
    }
   ],
   "source": [
    "addNum()"
   ]
  },
  {
   "cell_type": "markdown",
   "id": "2c6c45ae-67f2-422b-b0b9-62fdf0739d6d",
   "metadata": {},
   "source": [
    "## TypeError\n",
    "* while try to perform arithmetic operation on two diffrent types"
   ]
  },
  {
   "cell_type": "code",
   "execution_count": 3,
   "id": "6ac82fed-fba7-47bd-b745-e716829acda5",
   "metadata": {},
   "outputs": [
    {
     "ename": "TypeError",
     "evalue": "unsupported operand type(s) for +: 'int' and 'str'",
     "output_type": "error",
     "traceback": [
      "\u001b[1;31m---------------------------------------------------------------------------\u001b[0m",
      "\u001b[1;31mTypeError\u001b[0m                                 Traceback (most recent call last)",
      "Cell \u001b[1;32mIn[3], line 1\u001b[0m\n\u001b[1;32m----> 1\u001b[0m \u001b[38;5;241m2\u001b[39m\u001b[38;5;241m+\u001b[39m\u001b[38;5;124m\"\u001b[39m\u001b[38;5;124mxyz\u001b[39m\u001b[38;5;124m\"\u001b[39m\n",
      "\u001b[1;31mTypeError\u001b[0m: unsupported operand type(s) for +: 'int' and 'str'"
     ]
    }
   ],
   "source": [
    "2+\"xyz\""
   ]
  },
  {
   "cell_type": "markdown",
   "id": "0a28bd2a-e1cb-4849-a4f0-767f886df303",
   "metadata": {},
   "source": [
    "## ModuleNotFoundError\n",
    "* try to import certain module that doesn't exisist"
   ]
  },
  {
   "cell_type": "code",
   "execution_count": 9,
   "id": "9e6988fc-e6da-4337-9acb-824c7c973c46",
   "metadata": {},
   "outputs": [
    {
     "ename": "ModuleNotFoundError",
     "evalue": "No module named 'panda'",
     "output_type": "error",
     "traceback": [
      "\u001b[1;31m---------------------------------------------------------------------------\u001b[0m",
      "\u001b[1;31mModuleNotFoundError\u001b[0m                       Traceback (most recent call last)",
      "Cell \u001b[1;32mIn[9], line 1\u001b[0m\n\u001b[1;32m----> 1\u001b[0m \u001b[38;5;28;01mimport\u001b[39;00m \u001b[38;5;21;01mpanda\u001b[39;00m \u001b[38;5;28;01mas\u001b[39;00m \u001b[38;5;21;01mpd\u001b[39;00m\n",
      "\u001b[1;31mModuleNotFoundError\u001b[0m: No module named 'panda'"
     ]
    }
   ],
   "source": [
    "import panda as pd"
   ]
  },
  {
   "cell_type": "markdown",
   "id": "3d32d58a-95a7-4dd8-8fe1-de6906839d67",
   "metadata": {},
   "source": [
    "## KeyError\n",
    "try to access a key that doesn't exist for a given dictionary"
   ]
  },
  {
   "cell_type": "code",
   "execution_count": 11,
   "id": "05969829-b032-445d-bf1d-1f75d410c704",
   "metadata": {},
   "outputs": [
    {
     "data": {
      "text/plain": [
       "'Neel vankar'"
      ]
     },
     "execution_count": 11,
     "metadata": {},
     "output_type": "execute_result"
    }
   ],
   "source": [
    "dict={\"name\":\"Neel vankar\",\"age\":18,\"country\":\"india\"}\n",
    "dict[\"name\"]"
   ]
  },
  {
   "cell_type": "code",
   "execution_count": 12,
   "id": "79023aed-afa5-445b-92c6-cb0a5bdc4dda",
   "metadata": {},
   "outputs": [
    {
     "ename": "KeyError",
     "evalue": "'nam'",
     "output_type": "error",
     "traceback": [
      "\u001b[1;31m---------------------------------------------------------------------------\u001b[0m",
      "\u001b[1;31mKeyError\u001b[0m                                  Traceback (most recent call last)",
      "Cell \u001b[1;32mIn[12], line 1\u001b[0m\n\u001b[1;32m----> 1\u001b[0m \u001b[38;5;28mdict\u001b[39m[\u001b[38;5;124m\"\u001b[39m\u001b[38;5;124mnam\u001b[39m\u001b[38;5;124m\"\u001b[39m]\n",
      "\u001b[1;31mKeyError\u001b[0m: 'nam'"
     ]
    }
   ],
   "source": [
    "dict[\"nam\"]"
   ]
  },
  {
   "cell_type": "markdown",
   "id": "9a847a2f-ae9c-4e12-92e9-191ac198ea4a",
   "metadata": {},
   "source": [
    "## NameError\n",
    "try to access function or variable that doesnt exist"
   ]
  },
  {
   "cell_type": "code",
   "execution_count": 13,
   "id": "d4cb8953-2172-48cd-92dc-403894525e14",
   "metadata": {},
   "outputs": [
    {
     "ename": "NameError",
     "evalue": "name 'zee' is not defined",
     "output_type": "error",
     "traceback": [
      "\u001b[1;31m---------------------------------------------------------------------------\u001b[0m",
      "\u001b[1;31mNameError\u001b[0m                                 Traceback (most recent call last)",
      "Cell \u001b[1;32mIn[13], line 1\u001b[0m\n\u001b[1;32m----> 1\u001b[0m \u001b[38;5;28mprint\u001b[39m(zee)\n",
      "\u001b[1;31mNameError\u001b[0m: name 'zee' is not defined"
     ]
    }
   ],
   "source": [
    "print(zee)"
   ]
  },
  {
   "cell_type": "markdown",
   "id": "4839b64f-9830-460f-941a-f783d5966e8a",
   "metadata": {},
   "source": [
    "## AttributeError\n",
    "try to call an attribute that doesn 't exist for a class"
   ]
  },
  {
   "cell_type": "code",
   "execution_count": 16,
   "id": "ab3311aa-a1b7-400c-96a6-32b2a63237af",
   "metadata": {},
   "outputs": [
    {
     "name": "stdout",
     "output_type": "stream",
     "text": [
      "[1, 2, 3, 4]\n"
     ]
    },
    {
     "ename": "AttributeError",
     "evalue": "'list' object has no attribute 'upper'",
     "output_type": "error",
     "traceback": [
      "\u001b[1;31m---------------------------------------------------------------------------\u001b[0m",
      "\u001b[1;31mAttributeError\u001b[0m                            Traceback (most recent call last)",
      "Cell \u001b[1;32mIn[16], line 4\u001b[0m\n\u001b[0;32m      2\u001b[0m a\u001b[38;5;241m.\u001b[39mappend(\u001b[38;5;241m4\u001b[39m)\n\u001b[0;32m      3\u001b[0m \u001b[38;5;28mprint\u001b[39m(a)\n\u001b[1;32m----> 4\u001b[0m a\u001b[38;5;241m.\u001b[39mupper()\n",
      "\u001b[1;31mAttributeError\u001b[0m: 'list' object has no attribute 'upper'"
     ]
    }
   ],
   "source": [
    "a=[1,2,3]\n",
    "a.append(4)\n",
    "print(a)\n",
    "a.upper()"
   ]
  },
  {
   "cell_type": "markdown",
   "id": "35edf329-3d02-4989-9d63-a52617661a43",
   "metadata": {},
   "source": [
    "## FileNotFoundError\n",
    "* Try to access a file that doesnt exist"
   ]
  },
  {
   "cell_type": "code",
   "execution_count": 79,
   "id": "5329df35-d7d8-421e-8e46-6fd0725d6b72",
   "metadata": {},
   "outputs": [
    {
     "ename": "FileNotFoundError",
     "evalue": "[Errno 2] No such file or directory: 'smple1.txt'",
     "output_type": "error",
     "traceback": [
      "\u001b[1;31m---------------------------------------------------------------------------\u001b[0m",
      "\u001b[1;31mFileNotFoundError\u001b[0m                         Traceback (most recent call last)",
      "Cell \u001b[1;32mIn[79], line 1\u001b[0m\n\u001b[1;32m----> 1\u001b[0m f\u001b[38;5;241m=\u001b[39m\u001b[38;5;28mopen\u001b[39m(\u001b[38;5;124m'\u001b[39m\u001b[38;5;124msmple1.txt\u001b[39m\u001b[38;5;124m'\u001b[39m,\u001b[38;5;124m'\u001b[39m\u001b[38;5;124mr\u001b[39m\u001b[38;5;124m'\u001b[39m)\n\u001b[0;32m      2\u001b[0m res\u001b[38;5;241m=\u001b[39mf\u001b[38;5;241m.\u001b[39mread()\n\u001b[0;32m      3\u001b[0m \u001b[38;5;28mprint\u001b[39m(res)\n",
      "File \u001b[1;32m~\\anaconda3\\Lib\\site-packages\\IPython\\core\\interactiveshell.py:310\u001b[0m, in \u001b[0;36m_modified_open\u001b[1;34m(file, *args, **kwargs)\u001b[0m\n\u001b[0;32m    303\u001b[0m \u001b[38;5;28;01mif\u001b[39;00m file \u001b[38;5;129;01min\u001b[39;00m {\u001b[38;5;241m0\u001b[39m, \u001b[38;5;241m1\u001b[39m, \u001b[38;5;241m2\u001b[39m}:\n\u001b[0;32m    304\u001b[0m     \u001b[38;5;28;01mraise\u001b[39;00m \u001b[38;5;167;01mValueError\u001b[39;00m(\n\u001b[0;32m    305\u001b[0m         \u001b[38;5;124mf\u001b[39m\u001b[38;5;124m\"\u001b[39m\u001b[38;5;124mIPython won\u001b[39m\u001b[38;5;124m'\u001b[39m\u001b[38;5;124mt let you open fd=\u001b[39m\u001b[38;5;132;01m{\u001b[39;00mfile\u001b[38;5;132;01m}\u001b[39;00m\u001b[38;5;124m by default \u001b[39m\u001b[38;5;124m\"\u001b[39m\n\u001b[0;32m    306\u001b[0m         \u001b[38;5;124m\"\u001b[39m\u001b[38;5;124mas it is likely to crash IPython. If you know what you are doing, \u001b[39m\u001b[38;5;124m\"\u001b[39m\n\u001b[0;32m    307\u001b[0m         \u001b[38;5;124m\"\u001b[39m\u001b[38;5;124myou can use builtins\u001b[39m\u001b[38;5;124m'\u001b[39m\u001b[38;5;124m open.\u001b[39m\u001b[38;5;124m\"\u001b[39m\n\u001b[0;32m    308\u001b[0m     )\n\u001b[1;32m--> 310\u001b[0m \u001b[38;5;28;01mreturn\u001b[39;00m io_open(file, \u001b[38;5;241m*\u001b[39margs, \u001b[38;5;241m*\u001b[39m\u001b[38;5;241m*\u001b[39mkwargs)\n",
      "\u001b[1;31mFileNotFoundError\u001b[0m: [Errno 2] No such file or directory: 'smple1.txt'"
     ]
    }
   ],
   "source": [
    "f=open('smple1.txt','r')\n",
    "res=f.read()\n",
    "print(res)\n",
    "f.close()"
   ]
  },
  {
   "cell_type": "markdown",
   "id": "83b0ed7a-dff1-4eec-a87c-3852573c6f45",
   "metadata": {},
   "source": [
    "## Exceptions\n",
    "* Runtime error at the time of executeing code\n",
    "* This are some of not built in errors in python\n",
    "* for example ZeroDivisionError"
   ]
  },
  {
   "cell_type": "code",
   "execution_count": 18,
   "id": "33ba2863-b41f-4b21-bb34-b4489ec107d5",
   "metadata": {},
   "outputs": [],
   "source": [
    "def divideNum(num1,num2):\n",
    "    return num1/num2"
   ]
  },
  {
   "cell_type": "code",
   "execution_count": 19,
   "id": "a504df3c-85d4-46a0-a048-633fae05d941",
   "metadata": {},
   "outputs": [
    {
     "ename": "ZeroDivisionError",
     "evalue": "division by zero",
     "output_type": "error",
     "traceback": [
      "\u001b[1;31m---------------------------------------------------------------------------\u001b[0m",
      "\u001b[1;31mZeroDivisionError\u001b[0m                         Traceback (most recent call last)",
      "Cell \u001b[1;32mIn[19], line 1\u001b[0m\n\u001b[1;32m----> 1\u001b[0m divideNum(\u001b[38;5;241m1\u001b[39m\u001b[38;5;241m/\u001b[39m\u001b[38;5;241m0\u001b[39m)\n",
      "\u001b[1;31mZeroDivisionError\u001b[0m: division by zero"
     ]
    }
   ],
   "source": [
    "divideNum(1/0)"
   ]
  },
  {
   "cell_type": "markdown",
   "id": "42262ccb-77ec-473a-b482-fa8b3b8c9819",
   "metadata": {},
   "source": [
    "* So above one is type of exception that we have to handle because in real world scinario we don't want to show this error to user\n"
   ]
  },
  {
   "cell_type": "markdown",
   "id": "fb5b6825-26ff-45cd-adf8-61064d2c5459",
   "metadata": {},
   "source": [
    "# Exception Handling Mechanism\n",
    "## try\n",
    "* The part of code that can produce some exception\n",
    "## except\n",
    "* The type of expcetion for example ZeroDivisionError and we return what should user see if this exception raise\n",
    "## finally\n",
    "* The code that should be always run. \n",
    "## raise\n",
    "* Custom exceptions so that any part of program gets terminate"
   ]
  },
  {
   "cell_type": "code",
   "execution_count": 103,
   "id": "131df275-95bf-460b-b02e-189ede38fc77",
   "metadata": {},
   "outputs": [],
   "source": [
    "class Mathmatics:\n",
    "    def __init__(self,num1,num2):\n",
    "        self.num1=num1\n",
    "        self.num2=num2\n",
    "    def add(self):\n",
    "        try:\n",
    "            return f\"addition of two number is:{int(self.num1)+int(self.num2)}\"\n",
    "        except ValueError:\n",
    "            print(\"please provide integers only\")\n",
    "    def sub(self):\n",
    "        try:\n",
    "            return f\"subtraction of two number is:{int(self.num1)-int(self.num2)}\"\n",
    "        except ValueError:\n",
    "            print(\"please provide integers only\")\n",
    "    def mul(self):\n",
    "        try:\n",
    "            return f\"multiplication of two number is:{int(self.num1)*int(self.num2)}\"\n",
    "        except ValueError:\n",
    "            print(\"please provide integers only\")\n",
    "    def div(self):\n",
    "        try:\n",
    "            return f\"division of two number is:{int(self.num1)/int(self.num2)}\"\n",
    "        except ZeroDivisionError:\n",
    "             print(\"division not possible\")\n",
    "        except ValueError:\n",
    "            print(\"please provide integers only\")\n",
    "        finally:\n",
    "            return f\"for numbers {self.num1,self.num2} is not possible to perform division please pass non zero number\"\n",
    "    "
   ]
  },
  {
   "cell_type": "code",
   "execution_count": 104,
   "id": "5ef138fe-cef4-4fc0-b4b8-09cafd571472",
   "metadata": {},
   "outputs": [
    {
     "data": {
      "text/plain": [
       "'addition of two number is:60'"
      ]
     },
     "execution_count": 104,
     "metadata": {},
     "output_type": "execute_result"
    }
   ],
   "source": [
    "m=Mathmatics(10,50)\n",
    "m.add()\n"
   ]
  },
  {
   "cell_type": "code",
   "execution_count": 105,
   "id": "1171ee0b-5e52-49ee-8f1a-ed12c4d089bd",
   "metadata": {},
   "outputs": [
    {
     "name": "stdout",
     "output_type": "stream",
     "text": [
      "for numbers (10, 50) is not possible to perform division please pass non zero number\n"
     ]
    }
   ],
   "source": [
    "print(m.div())"
   ]
  },
  {
   "cell_type": "code",
   "execution_count": 101,
   "id": "59ab2e38-5289-4dc7-b7a5-01600b44f5bb",
   "metadata": {},
   "outputs": [
    {
     "data": {
      "text/plain": [
       "'subtraction of two number is:-40'"
      ]
     },
     "execution_count": 101,
     "metadata": {},
     "output_type": "execute_result"
    }
   ],
   "source": [
    "m.sub()"
   ]
  },
  {
   "cell_type": "code",
   "execution_count": 97,
   "id": "ac932527-4df2-4ea3-bef3-89e42e93ef05",
   "metadata": {},
   "outputs": [
    {
     "data": {
      "text/plain": [
       "'multiplication of two number is:500'"
      ]
     },
     "execution_count": 97,
     "metadata": {},
     "output_type": "execute_result"
    }
   ],
   "source": [
    "m.mul()"
   ]
  },
  {
   "cell_type": "markdown",
   "id": "cdfa74c1-8b44-4b96-b930-06b988b1ca47",
   "metadata": {},
   "source": [
    "* In the above code first a class Mathmatics perform arithmatical operations but for division there is a possibility user pass (num1,0) as second argument so we put try block and inside catch if second argument is zero than itshould be print 'division not possible'\n",
    "* At last finally block called where we simply say to user that change the value\n",
    "* It is also checking that the argument should be integers only."
   ]
  },
  {
   "cell_type": "markdown",
   "id": "86a3b9c6-8ae3-4645-a396-18277894b4cd",
   "metadata": {},
   "source": [
    "# Exception super class\n",
    "when we don't now what exception should be caught inside except block we use Exception super class"
   ]
  },
  {
   "cell_type": "code",
   "execution_count": 74,
   "id": "ce956e09-4566-4083-8a04-a9189a0d95ca",
   "metadata": {},
   "outputs": [],
   "source": [
    " def div(num1,num2):\n",
    "        try:\n",
    "            return f\"division of two number is:{int(num1)/int(num2)}\"\n",
    "        except Exception as e :\n",
    "            print(e)\n",
    "        finally:\n",
    "            return f\"for numbers {num1,num2} is not possible to perform division please pass non zero number\"\n",
    "    "
   ]
  },
  {
   "cell_type": "code",
   "execution_count": 78,
   "id": "9d8d2738-f048-485a-a201-88658dea25b4",
   "metadata": {},
   "outputs": [
    {
     "name": "stdout",
     "output_type": "stream",
     "text": [
      "division by zero\n"
     ]
    },
    {
     "data": {
      "text/plain": [
       "'for numbers (12, 0) is not possible to perform division please pass non zero number'"
      ]
     },
     "execution_count": 78,
     "metadata": {},
     "output_type": "execute_result"
    }
   ],
   "source": [
    "div(12,0)"
   ]
  },
  {
   "cell_type": "markdown",
   "id": "f5d1344f-0986-40b5-bfe1-ee96b61362f4",
   "metadata": {},
   "source": [
    "# Custome error"
   ]
  },
  {
   "cell_type": "code",
   "execution_count": 114,
   "id": "8c30c6fb-4833-48f0-b2fb-01b34ad361c5",
   "metadata": {},
   "outputs": [],
   "source": [
    "class CustomExcept:\n",
    "    def __init__(self,msg):\n",
    "        print(msg)\n",
    "class Mathmatics(CustomExcept):\n",
    "    def __init__(self,num1,num2):\n",
    "        self.num1=num1\n",
    "        self.num2=num2\n",
    "    def add(self):\n",
    "        try:\n",
    "            return f\"addition of two number is:{int(self.num1)+int(self.num2)}\"\n",
    "        except ValueError:\n",
    "            print(\"please provide integers only\")\n",
    "    def sub(self):\n",
    "        try:\n",
    "            return f\"subtraction of two number is:{int(self.num1)-int(self.num2)}\"\n",
    "        except ValueError:\n",
    "            print(\"please provide integers only\")\n",
    "    def mul(self):\n",
    "        try:\n",
    "            return f\"multiplication of two number is:{int(self.num1)*int(self.num2)}\"\n",
    "        except ValueError:\n",
    "            print(\"please provide integers only\")\n",
    "    def div(self):\n",
    "        try:\n",
    "             print(f\"division of two number is:{int(self.num1)/int(self.num2)}\")\n",
    "        except CustomExcept as e:\n",
    "            pass\n",
    "        "
   ]
  },
  {
   "cell_type": "code",
   "execution_count": 115,
   "id": "63c45bf5-462c-498d-9437-924065492b5d",
   "metadata": {},
   "outputs": [],
   "source": [
    "c=Mathmatics(12,0)"
   ]
  },
  {
   "cell_type": "code",
   "execution_count": 116,
   "id": "9241412d-790c-40bf-8a42-9f95c5c216b2",
   "metadata": {},
   "outputs": [
    {
     "ename": "TypeError",
     "evalue": "catching classes that do not inherit from BaseException is not allowed",
     "output_type": "error",
     "traceback": [
      "\u001b[1;31m---------------------------------------------------------------------------\u001b[0m",
      "\u001b[1;31mZeroDivisionError\u001b[0m                         Traceback (most recent call last)",
      "Cell \u001b[1;32mIn[114], line 25\u001b[0m, in \u001b[0;36mMathmatics.div\u001b[1;34m(self)\u001b[0m\n\u001b[0;32m     24\u001b[0m \u001b[38;5;28;01mtry\u001b[39;00m:\n\u001b[1;32m---> 25\u001b[0m      \u001b[38;5;28mprint\u001b[39m(\u001b[38;5;124mf\u001b[39m\u001b[38;5;124m\"\u001b[39m\u001b[38;5;124mdivision of two number is:\u001b[39m\u001b[38;5;132;01m{\u001b[39;00m\u001b[38;5;28mint\u001b[39m(\u001b[38;5;28mself\u001b[39m\u001b[38;5;241m.\u001b[39mnum1)\u001b[38;5;241m/\u001b[39m\u001b[38;5;28mint\u001b[39m(\u001b[38;5;28mself\u001b[39m\u001b[38;5;241m.\u001b[39mnum2)\u001b[38;5;132;01m}\u001b[39;00m\u001b[38;5;124m\"\u001b[39m)\n\u001b[0;32m     26\u001b[0m \u001b[38;5;28;01mexcept\u001b[39;00m CustomExcept \u001b[38;5;28;01mas\u001b[39;00m e:\n",
      "\u001b[1;31mZeroDivisionError\u001b[0m: division by zero",
      "\nDuring handling of the above exception, another exception occurred:\n",
      "\u001b[1;31mTypeError\u001b[0m                                 Traceback (most recent call last)",
      "Cell \u001b[1;32mIn[116], line 1\u001b[0m\n\u001b[1;32m----> 1\u001b[0m c\u001b[38;5;241m.\u001b[39mdiv()\n",
      "Cell \u001b[1;32mIn[114], line 26\u001b[0m, in \u001b[0;36mMathmatics.div\u001b[1;34m(self)\u001b[0m\n\u001b[0;32m     24\u001b[0m \u001b[38;5;28;01mtry\u001b[39;00m:\n\u001b[0;32m     25\u001b[0m      \u001b[38;5;28mprint\u001b[39m(\u001b[38;5;124mf\u001b[39m\u001b[38;5;124m\"\u001b[39m\u001b[38;5;124mdivision of two number is:\u001b[39m\u001b[38;5;132;01m{\u001b[39;00m\u001b[38;5;28mint\u001b[39m(\u001b[38;5;28mself\u001b[39m\u001b[38;5;241m.\u001b[39mnum1)\u001b[38;5;241m/\u001b[39m\u001b[38;5;28mint\u001b[39m(\u001b[38;5;28mself\u001b[39m\u001b[38;5;241m.\u001b[39mnum2)\u001b[38;5;132;01m}\u001b[39;00m\u001b[38;5;124m\"\u001b[39m)\n\u001b[1;32m---> 26\u001b[0m \u001b[38;5;28;01mexcept\u001b[39;00m CustomExcept \u001b[38;5;28;01mas\u001b[39;00m e:\n\u001b[0;32m     27\u001b[0m     \u001b[38;5;28;01mpass\u001b[39;00m\n",
      "\u001b[1;31mTypeError\u001b[0m: catching classes that do not inherit from BaseException is not allowed"
     ]
    }
   ],
   "source": [
    "c.div()"
   ]
  },
  {
   "cell_type": "code",
   "execution_count": null,
   "id": "c822f7e3-9d3e-48ff-bfc3-5675e2ee9764",
   "metadata": {},
   "outputs": [],
   "source": []
  }
 ],
 "metadata": {
  "kernelspec": {
   "display_name": "Python 3 (ipykernel)",
   "language": "python",
   "name": "python3"
  },
  "language_info": {
   "codemirror_mode": {
    "name": "ipython",
    "version": 3
   },
   "file_extension": ".py",
   "mimetype": "text/x-python",
   "name": "python",
   "nbconvert_exporter": "python",
   "pygments_lexer": "ipython3",
   "version": "3.11.7"
  }
 },
 "nbformat": 4,
 "nbformat_minor": 5
}

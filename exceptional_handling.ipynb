{
 "cells": [
  {
   "cell_type": "markdown",
   "id": "244e8424-587c-4705-8be3-8ad5303b5ef3",
   "metadata": {},
   "source": [
    "## What is Exceptions\n",
    "In Python or any programming language there are two types of error\n",
    "* 1)Compiletime Exceptions(Syntatic errors)\n",
    "* 2)Runtime Exceptions(Exceptions)"
   ]
  },
  {
   "cell_type": "markdown",
   "id": "594b1c6a-97b8-4a9f-82dd-e409758d01cc",
   "metadata": {},
   "source": [
    "## compile time error\n",
    "* Grammatic mistake while using keywords\n",
    "* use of wrong special characters for example while making list we use [] instead of this developer might use () makes it a tuple now it cannotuse list class methods\n",
    "* indentation error"
   ]
  },
  {
   "cell_type": "code",
   "execution_count": 1,
   "id": "45631575-c2e2-4b92-af6d-78980bebca30",
   "metadata": {},
   "outputs": [
    {
     "ename": "SyntaxError",
     "evalue": "Missing parentheses in call to 'print'. Did you mean print(...)? (3923495743.py, line 1)",
     "output_type": "error",
     "traceback": [
      "\u001b[1;36m  Cell \u001b[1;32mIn[1], line 1\u001b[1;36m\u001b[0m\n\u001b[1;33m    print \"hello world\"\u001b[0m\n\u001b[1;37m    ^\u001b[0m\n\u001b[1;31mSyntaxError\u001b[0m\u001b[1;31m:\u001b[0m Missing parentheses in call to 'print'. Did you mean print(...)?\n"
     ]
    }
   ],
   "source": [
    "print \"hello world\""
   ]
  },
  {
   "cell_type": "markdown",
   "id": "0873ac8b-ad57-44d4-9350-07c4834066e9",
   "metadata": {},
   "source": [
    "## indentation error"
   ]
  },
  {
   "cell_type": "code",
   "execution_count": 2,
   "id": "7891769a-06ed-4805-beaf-4f26e1f06a0e",
   "metadata": {},
   "outputs": [
    {
     "ename": "IndentationError",
     "evalue": "expected an indented block after 'for' statement on line 2 (2231749825.py, line 3)",
     "output_type": "error",
     "traceback": [
      "\u001b[1;36m  Cell \u001b[1;32mIn[2], line 3\u001b[1;36m\u001b[0m\n\u001b[1;33m    print(i)\u001b[0m\n\u001b[1;37m    ^\u001b[0m\n\u001b[1;31mIndentationError\u001b[0m\u001b[1;31m:\u001b[0m expected an indented block after 'for' statement on line 2\n"
     ]
    }
   ],
   "source": [
    "L=[1,2,3,4]\n",
    "for i in L:\n",
    "print(i)\n"
   ]
  },
  {
   "cell_type": "markdown",
   "id": "81e9f591-8773-440c-8043-c0e3aad323c5",
   "metadata": {},
   "source": [
    "## IndexError"
   ]
  },
  {
   "cell_type": "code",
   "execution_count": 4,
   "id": "e36d9e23-6fa0-4281-8db6-da8563a1a910",
   "metadata": {},
   "outputs": [
    {
     "ename": "IndexError",
     "evalue": "list index out of range",
     "output_type": "error",
     "traceback": [
      "\u001b[1;31m---------------------------------------------------------------------------\u001b[0m",
      "\u001b[1;31mIndexError\u001b[0m                                Traceback (most recent call last)",
      "Cell \u001b[1;32mIn[4], line 2\u001b[0m\n\u001b[0;32m      1\u001b[0m L\u001b[38;5;241m=\u001b[39m[\u001b[38;5;241m1\u001b[39m,\u001b[38;5;241m2\u001b[39m,\u001b[38;5;241m3\u001b[39m,\u001b[38;5;241m4\u001b[39m]\n\u001b[1;32m----> 2\u001b[0m \u001b[38;5;28mprint\u001b[39m(L[\u001b[38;5;241m4\u001b[39m])\n",
      "\u001b[1;31mIndexError\u001b[0m: list index out of range"
     ]
    }
   ],
   "source": [
    "L=[1,2,3,4]\n",
    "print(L[4])\n"
   ]
  },
  {
   "cell_type": "code",
   "execution_count": null,
   "id": "60f96f26-1d04-4535-bcad-afa92f96505d",
   "metadata": {},
   "outputs": [],
   "source": []
  }
 ],
 "metadata": {
  "kernelspec": {
   "display_name": "Python 3 (ipykernel)",
   "language": "python",
   "name": "python3"
  },
  "language_info": {
   "codemirror_mode": {
    "name": "ipython",
    "version": 3
   },
   "file_extension": ".py",
   "mimetype": "text/x-python",
   "name": "python",
   "nbconvert_exporter": "python",
   "pygments_lexer": "ipython3",
   "version": "3.11.7"
  }
 },
 "nbformat": 4,
 "nbformat_minor": 5
}
